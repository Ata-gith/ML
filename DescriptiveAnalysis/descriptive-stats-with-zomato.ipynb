{
 "cells": [
  {
   "cell_type": "markdown",
   "metadata": {
    "deletable": true,
    "editable": true
   },
   "source": [
    "## Zomato dataset (~100 records)"
   ]
  },
  {
   "cell_type": "code",
   "execution_count": 1,
   "metadata": {
    "collapsed": true,
    "deletable": true,
    "editable": true,
    "scrolled": true
   },
   "outputs": [],
   "source": [
    "# load the numpy and pandas libraries with alias 'np' and 'pd' into your namespace \n",
    "import numpy as np\n",
    "import pandas as pd\n",
    "# and import only pyplot from matplotlib library as 'plt' into your namespace\n",
    "from matplotlib import pyplot as plt\n",
    "\n",
    "# import the content of a .csv file into a dataFrame\n",
    "#df = pd.read_csv('../data/zomato_kisa.csv', index_col= None, encoding='utf-8')\n",
    "df = pd.read_csv('zomato_kisa.csv', index_col = None, encoding = 'utf-8')"
   ]
  },
  {
   "cell_type": "code",
   "execution_count": 2,
   "metadata": {
    "collapsed": false,
    "deletable": true,
    "editable": true
   },
   "outputs": [
    {
     "data": {
      "text/html": [
       "<div>\n",
       "<style scoped>\n",
       "    .dataframe tbody tr th:only-of-type {\n",
       "        vertical-align: middle;\n",
       "    }\n",
       "\n",
       "    .dataframe tbody tr th {\n",
       "        vertical-align: top;\n",
       "    }\n",
       "\n",
       "    .dataframe thead th {\n",
       "        text-align: right;\n",
       "    }\n",
       "</style>\n",
       "<table border=\"1\" class=\"dataframe\">\n",
       "  <thead>\n",
       "    <tr style=\"text-align: right;\">\n",
       "      <th></th>\n",
       "      <th>Restaurant ID</th>\n",
       "      <th>Restaurant Name</th>\n",
       "      <th>Country Code</th>\n",
       "      <th>City</th>\n",
       "      <th>Address</th>\n",
       "      <th>Locality</th>\n",
       "      <th>Locality Verbose</th>\n",
       "      <th>Longitude</th>\n",
       "      <th>Latitude</th>\n",
       "      <th>Cuisines</th>\n",
       "      <th>...</th>\n",
       "      <th>Currency</th>\n",
       "      <th>Has Table booking</th>\n",
       "      <th>Has Online delivery</th>\n",
       "      <th>Is delivering now</th>\n",
       "      <th>Switch to order menu</th>\n",
       "      <th>Price range</th>\n",
       "      <th>Aggregate rating</th>\n",
       "      <th>Rating color</th>\n",
       "      <th>Rating text</th>\n",
       "      <th>Votes</th>\n",
       "    </tr>\n",
       "  </thead>\n",
       "  <tbody>\n",
       "    <tr>\n",
       "      <th>0</th>\n",
       "      <td>6317637</td>\n",
       "      <td>Le Petit Souffle</td>\n",
       "      <td>162</td>\n",
       "      <td>Makati City</td>\n",
       "      <td>Third Floor, Century City Mall, Kalayaan Avenu...</td>\n",
       "      <td>Century City Mall, Poblacion, Makati City</td>\n",
       "      <td>Century City Mall, Poblacion, Makati City, Mak...</td>\n",
       "      <td>121.027535</td>\n",
       "      <td>14.565443</td>\n",
       "      <td>French, Japanese, Desserts</td>\n",
       "      <td>...</td>\n",
       "      <td>Botswana Pula(P)</td>\n",
       "      <td>Yes</td>\n",
       "      <td>No</td>\n",
       "      <td>No</td>\n",
       "      <td>No</td>\n",
       "      <td>3</td>\n",
       "      <td>4.8</td>\n",
       "      <td>Dark Green</td>\n",
       "      <td>Excellent</td>\n",
       "      <td>314</td>\n",
       "    </tr>\n",
       "    <tr>\n",
       "      <th>1</th>\n",
       "      <td>6304287</td>\n",
       "      <td>Izakaya Kikufuji</td>\n",
       "      <td>162</td>\n",
       "      <td>Makati City</td>\n",
       "      <td>Little Tokyo, 2277 Chino Roces Avenue, Legaspi...</td>\n",
       "      <td>Little Tokyo, Legaspi Village, Makati City</td>\n",
       "      <td>Little Tokyo, Legaspi Village, Makati City, Ma...</td>\n",
       "      <td>121.014101</td>\n",
       "      <td>14.553708</td>\n",
       "      <td>Japanese</td>\n",
       "      <td>...</td>\n",
       "      <td>Botswana Pula(P)</td>\n",
       "      <td>Yes</td>\n",
       "      <td>No</td>\n",
       "      <td>No</td>\n",
       "      <td>No</td>\n",
       "      <td>3</td>\n",
       "      <td>4.5</td>\n",
       "      <td>Dark Green</td>\n",
       "      <td>Excellent</td>\n",
       "      <td>591</td>\n",
       "    </tr>\n",
       "    <tr>\n",
       "      <th>2</th>\n",
       "      <td>6300002</td>\n",
       "      <td>Heat - Edsa Shangri-La</td>\n",
       "      <td>162</td>\n",
       "      <td>Mandaluyong City</td>\n",
       "      <td>Edsa Shangri-La, 1 Garden Way, Ortigas, Mandal...</td>\n",
       "      <td>Edsa Shangri-La, Ortigas, Mandaluyong City</td>\n",
       "      <td>Edsa Shangri-La, Ortigas, Mandaluyong City, Ma...</td>\n",
       "      <td>121.056831</td>\n",
       "      <td>14.581404</td>\n",
       "      <td>Seafood, Asian, Filipino, Indian</td>\n",
       "      <td>...</td>\n",
       "      <td>Botswana Pula(P)</td>\n",
       "      <td>Yes</td>\n",
       "      <td>No</td>\n",
       "      <td>No</td>\n",
       "      <td>No</td>\n",
       "      <td>4</td>\n",
       "      <td>4.4</td>\n",
       "      <td>Green</td>\n",
       "      <td>Very Good</td>\n",
       "      <td>270</td>\n",
       "    </tr>\n",
       "    <tr>\n",
       "      <th>3</th>\n",
       "      <td>6318506</td>\n",
       "      <td>Ooma</td>\n",
       "      <td>162</td>\n",
       "      <td>Mandaluyong City</td>\n",
       "      <td>Third Floor, Mega Fashion Hall, SM Megamall, O...</td>\n",
       "      <td>SM Megamall, Ortigas, Mandaluyong City</td>\n",
       "      <td>SM Megamall, Ortigas, Mandaluyong City, Mandal...</td>\n",
       "      <td>121.056475</td>\n",
       "      <td>14.585318</td>\n",
       "      <td>Japanese, Sushi</td>\n",
       "      <td>...</td>\n",
       "      <td>Botswana Pula(P)</td>\n",
       "      <td>No</td>\n",
       "      <td>No</td>\n",
       "      <td>No</td>\n",
       "      <td>No</td>\n",
       "      <td>4</td>\n",
       "      <td>4.9</td>\n",
       "      <td>Dark Green</td>\n",
       "      <td>Excellent</td>\n",
       "      <td>365</td>\n",
       "    </tr>\n",
       "    <tr>\n",
       "      <th>4</th>\n",
       "      <td>6314302</td>\n",
       "      <td>Sambo Kojin</td>\n",
       "      <td>162</td>\n",
       "      <td>Mandaluyong City</td>\n",
       "      <td>Third Floor, Mega Atrium, SM Megamall, Ortigas...</td>\n",
       "      <td>SM Megamall, Ortigas, Mandaluyong City</td>\n",
       "      <td>SM Megamall, Ortigas, Mandaluyong City, Mandal...</td>\n",
       "      <td>121.057508</td>\n",
       "      <td>14.584450</td>\n",
       "      <td>Japanese, Korean</td>\n",
       "      <td>...</td>\n",
       "      <td>Botswana Pula(P)</td>\n",
       "      <td>Yes</td>\n",
       "      <td>No</td>\n",
       "      <td>No</td>\n",
       "      <td>No</td>\n",
       "      <td>4</td>\n",
       "      <td>4.8</td>\n",
       "      <td>Dark Green</td>\n",
       "      <td>Excellent</td>\n",
       "      <td>229</td>\n",
       "    </tr>\n",
       "  </tbody>\n",
       "</table>\n",
       "<p>5 rows × 21 columns</p>\n",
       "</div>"
      ],
      "text/plain": [
       "   Restaurant ID         Restaurant Name  Country Code              City  \\\n",
       "0        6317637        Le Petit Souffle           162       Makati City   \n",
       "1        6304287        Izakaya Kikufuji           162       Makati City   \n",
       "2        6300002  Heat - Edsa Shangri-La           162  Mandaluyong City   \n",
       "3        6318506                    Ooma           162  Mandaluyong City   \n",
       "4        6314302             Sambo Kojin           162  Mandaluyong City   \n",
       "\n",
       "                                             Address  \\\n",
       "0  Third Floor, Century City Mall, Kalayaan Avenu...   \n",
       "1  Little Tokyo, 2277 Chino Roces Avenue, Legaspi...   \n",
       "2  Edsa Shangri-La, 1 Garden Way, Ortigas, Mandal...   \n",
       "3  Third Floor, Mega Fashion Hall, SM Megamall, O...   \n",
       "4  Third Floor, Mega Atrium, SM Megamall, Ortigas...   \n",
       "\n",
       "                                     Locality  \\\n",
       "0   Century City Mall, Poblacion, Makati City   \n",
       "1  Little Tokyo, Legaspi Village, Makati City   \n",
       "2  Edsa Shangri-La, Ortigas, Mandaluyong City   \n",
       "3      SM Megamall, Ortigas, Mandaluyong City   \n",
       "4      SM Megamall, Ortigas, Mandaluyong City   \n",
       "\n",
       "                                    Locality Verbose   Longitude   Latitude  \\\n",
       "0  Century City Mall, Poblacion, Makati City, Mak...  121.027535  14.565443   \n",
       "1  Little Tokyo, Legaspi Village, Makati City, Ma...  121.014101  14.553708   \n",
       "2  Edsa Shangri-La, Ortigas, Mandaluyong City, Ma...  121.056831  14.581404   \n",
       "3  SM Megamall, Ortigas, Mandaluyong City, Mandal...  121.056475  14.585318   \n",
       "4  SM Megamall, Ortigas, Mandaluyong City, Mandal...  121.057508  14.584450   \n",
       "\n",
       "                           Cuisines  ...          Currency Has Table booking  \\\n",
       "0        French, Japanese, Desserts  ...  Botswana Pula(P)               Yes   \n",
       "1                          Japanese  ...  Botswana Pula(P)               Yes   \n",
       "2  Seafood, Asian, Filipino, Indian  ...  Botswana Pula(P)               Yes   \n",
       "3                   Japanese, Sushi  ...  Botswana Pula(P)                No   \n",
       "4                  Japanese, Korean  ...  Botswana Pula(P)               Yes   \n",
       "\n",
       "  Has Online delivery Is delivering now Switch to order menu Price range  \\\n",
       "0                  No                No                   No           3   \n",
       "1                  No                No                   No           3   \n",
       "2                  No                No                   No           4   \n",
       "3                  No                No                   No           4   \n",
       "4                  No                No                   No           4   \n",
       "\n",
       "   Aggregate rating  Rating color Rating text Votes  \n",
       "0               4.8    Dark Green   Excellent   314  \n",
       "1               4.5    Dark Green   Excellent   591  \n",
       "2               4.4         Green   Very Good   270  \n",
       "3               4.9    Dark Green   Excellent   365  \n",
       "4               4.8    Dark Green   Excellent   229  \n",
       "\n",
       "[5 rows x 21 columns]"
      ]
     },
     "execution_count": 2,
     "metadata": {},
     "output_type": "execute_result"
    }
   ],
   "source": [
    "# display the first 5 entries\n",
    "df.head() "
   ]
  },
  {
   "cell_type": "code",
   "execution_count": 4,
   "metadata": {
    "collapsed": false,
    "deletable": true,
    "editable": true
   },
   "outputs": [
    {
     "data": {
      "text/html": [
       "<div>\n",
       "<style scoped>\n",
       "    .dataframe tbody tr th:only-of-type {\n",
       "        vertical-align: middle;\n",
       "    }\n",
       "\n",
       "    .dataframe tbody tr th {\n",
       "        vertical-align: top;\n",
       "    }\n",
       "\n",
       "    .dataframe thead th {\n",
       "        text-align: right;\n",
       "    }\n",
       "</style>\n",
       "<table border=\"1\" class=\"dataframe\">\n",
       "  <thead>\n",
       "    <tr style=\"text-align: right;\">\n",
       "      <th></th>\n",
       "      <th>Restaurant ID</th>\n",
       "      <th>Restaurant Name</th>\n",
       "      <th>Country Code</th>\n",
       "      <th>City</th>\n",
       "      <th>Address</th>\n",
       "      <th>Locality</th>\n",
       "      <th>Locality Verbose</th>\n",
       "      <th>Longitude</th>\n",
       "      <th>Latitude</th>\n",
       "      <th>Cuisines</th>\n",
       "      <th>...</th>\n",
       "      <th>Currency</th>\n",
       "      <th>Has Table booking</th>\n",
       "      <th>Has Online delivery</th>\n",
       "      <th>Is delivering now</th>\n",
       "      <th>Switch to order menu</th>\n",
       "      <th>Price range</th>\n",
       "      <th>Aggregate rating</th>\n",
       "      <th>Rating color</th>\n",
       "      <th>Rating text</th>\n",
       "      <th>Votes</th>\n",
       "    </tr>\n",
       "  </thead>\n",
       "  <tbody>\n",
       "    <tr>\n",
       "      <th>83</th>\n",
       "      <td>17284203</td>\n",
       "      <td>BJ's Country Buffet</td>\n",
       "      <td>216</td>\n",
       "      <td>Albany</td>\n",
       "      <td>2401 Dawson Rd, Albany, GA 31707</td>\n",
       "      <td>Albany</td>\n",
       "      <td>Albany, Albany</td>\n",
       "      <td>-84.207095</td>\n",
       "      <td>31.608743</td>\n",
       "      <td>American, BBQ</td>\n",
       "      <td>...</td>\n",
       "      <td>Dollar($)</td>\n",
       "      <td>No</td>\n",
       "      <td>No</td>\n",
       "      <td>No</td>\n",
       "      <td>No</td>\n",
       "      <td>1</td>\n",
       "      <td>3.3</td>\n",
       "      <td>Orange</td>\n",
       "      <td>Average</td>\n",
       "      <td>25</td>\n",
       "    </tr>\n",
       "    <tr>\n",
       "      <th>84</th>\n",
       "      <td>17284105</td>\n",
       "      <td>Cookie Shoppe</td>\n",
       "      <td>216</td>\n",
       "      <td>Albany</td>\n",
       "      <td>115 N Jackson St, Albany, GA 31701</td>\n",
       "      <td>Albany</td>\n",
       "      <td>Albany, Albany</td>\n",
       "      <td>-84.154000</td>\n",
       "      <td>31.577200</td>\n",
       "      <td>NaN</td>\n",
       "      <td>...</td>\n",
       "      <td>Dollar($)</td>\n",
       "      <td>No</td>\n",
       "      <td>No</td>\n",
       "      <td>No</td>\n",
       "      <td>No</td>\n",
       "      <td>1</td>\n",
       "      <td>3.4</td>\n",
       "      <td>Orange</td>\n",
       "      <td>Average</td>\n",
       "      <td>34</td>\n",
       "    </tr>\n",
       "    <tr>\n",
       "      <th>85</th>\n",
       "      <td>17284302</td>\n",
       "      <td>El Vaquero Mexican Restaurant</td>\n",
       "      <td>216</td>\n",
       "      <td>Albany</td>\n",
       "      <td>2700 Dawson Rd, Albany, GA 31707</td>\n",
       "      <td>Albany</td>\n",
       "      <td>Albany, Albany</td>\n",
       "      <td>-84.219400</td>\n",
       "      <td>31.615800</td>\n",
       "      <td>Mexican</td>\n",
       "      <td>...</td>\n",
       "      <td>Dollar($)</td>\n",
       "      <td>No</td>\n",
       "      <td>No</td>\n",
       "      <td>No</td>\n",
       "      <td>No</td>\n",
       "      <td>1</td>\n",
       "      <td>3.4</td>\n",
       "      <td>Orange</td>\n",
       "      <td>Average</td>\n",
       "      <td>45</td>\n",
       "    </tr>\n",
       "    <tr>\n",
       "      <th>86</th>\n",
       "      <td>17284397</td>\n",
       "      <td>Elements Coffee Co - Northwest</td>\n",
       "      <td>216</td>\n",
       "      <td>Albany</td>\n",
       "      <td>2726 Ledo Rd Ste 10, Albany, GA 31707</td>\n",
       "      <td>Albany</td>\n",
       "      <td>Albany, Albany</td>\n",
       "      <td>-84.206944</td>\n",
       "      <td>31.622412</td>\n",
       "      <td>Coffee and Tea, Sandwich</td>\n",
       "      <td>...</td>\n",
       "      <td>Dollar($)</td>\n",
       "      <td>No</td>\n",
       "      <td>No</td>\n",
       "      <td>No</td>\n",
       "      <td>No</td>\n",
       "      <td>1</td>\n",
       "      <td>3.4</td>\n",
       "      <td>Orange</td>\n",
       "      <td>Average</td>\n",
       "      <td>26</td>\n",
       "    </tr>\n",
       "    <tr>\n",
       "      <th>87</th>\n",
       "      <td>17284211</td>\n",
       "      <td>Pearly's Famous Country Cookng</td>\n",
       "      <td>216</td>\n",
       "      <td>Albany</td>\n",
       "      <td>814 N Slappey Blvd, Albany, GA 31701</td>\n",
       "      <td>Albany</td>\n",
       "      <td>Albany, Albany</td>\n",
       "      <td>-84.175900</td>\n",
       "      <td>31.588200</td>\n",
       "      <td>NaN</td>\n",
       "      <td>...</td>\n",
       "      <td>Dollar($)</td>\n",
       "      <td>No</td>\n",
       "      <td>No</td>\n",
       "      <td>No</td>\n",
       "      <td>No</td>\n",
       "      <td>1</td>\n",
       "      <td>3.4</td>\n",
       "      <td>Orange</td>\n",
       "      <td>Average</td>\n",
       "      <td>36</td>\n",
       "    </tr>\n",
       "    <tr>\n",
       "      <th>88</th>\n",
       "      <td>17284094</td>\n",
       "      <td>Chick-fil-A</td>\n",
       "      <td>216</td>\n",
       "      <td>Albany</td>\n",
       "      <td>2703 Dawson Rd, Albany, GA 31707</td>\n",
       "      <td>Albany</td>\n",
       "      <td>Albany, Albany</td>\n",
       "      <td>-84.219300</td>\n",
       "      <td>31.616000</td>\n",
       "      <td>Fast Food</td>\n",
       "      <td>...</td>\n",
       "      <td>Dollar($)</td>\n",
       "      <td>No</td>\n",
       "      <td>No</td>\n",
       "      <td>No</td>\n",
       "      <td>No</td>\n",
       "      <td>1</td>\n",
       "      <td>3.5</td>\n",
       "      <td>Yellow</td>\n",
       "      <td>Good</td>\n",
       "      <td>67</td>\n",
       "    </tr>\n",
       "    <tr>\n",
       "      <th>89</th>\n",
       "      <td>17284409</td>\n",
       "      <td>Guang Zhou Chinese Restaurant</td>\n",
       "      <td>216</td>\n",
       "      <td>Albany</td>\n",
       "      <td>1214 N Westover Blvd, Albany, GA 31707</td>\n",
       "      <td>Albany</td>\n",
       "      <td>Albany, Albany</td>\n",
       "      <td>-84.209146</td>\n",
       "      <td>31.615519</td>\n",
       "      <td>Asian, Chinese, Vegetarian</td>\n",
       "      <td>...</td>\n",
       "      <td>Dollar($)</td>\n",
       "      <td>No</td>\n",
       "      <td>No</td>\n",
       "      <td>No</td>\n",
       "      <td>No</td>\n",
       "      <td>1</td>\n",
       "      <td>3.9</td>\n",
       "      <td>Yellow</td>\n",
       "      <td>Good</td>\n",
       "      <td>141</td>\n",
       "    </tr>\n",
       "    <tr>\n",
       "      <th>90</th>\n",
       "      <td>17284139</td>\n",
       "      <td>Harvest Moon</td>\n",
       "      <td>216</td>\n",
       "      <td>Albany</td>\n",
       "      <td>2347 Dawson Road, Albany, GA 31707</td>\n",
       "      <td>Albany</td>\n",
       "      <td>Albany, Albany</td>\n",
       "      <td>-84.205718</td>\n",
       "      <td>31.604905</td>\n",
       "      <td>Pizza, Bar Food, Sandwich</td>\n",
       "      <td>...</td>\n",
       "      <td>Dollar($)</td>\n",
       "      <td>No</td>\n",
       "      <td>No</td>\n",
       "      <td>No</td>\n",
       "      <td>No</td>\n",
       "      <td>2</td>\n",
       "      <td>3.7</td>\n",
       "      <td>Yellow</td>\n",
       "      <td>Good</td>\n",
       "      <td>147</td>\n",
       "    </tr>\n",
       "    <tr>\n",
       "      <th>91</th>\n",
       "      <td>17284403</td>\n",
       "      <td>Henry Campbell's Steakhouse</td>\n",
       "      <td>216</td>\n",
       "      <td>Albany</td>\n",
       "      <td>629 N. Westover Blvd, Albany, GA 31707</td>\n",
       "      <td>Albany</td>\n",
       "      <td>Albany, Albany</td>\n",
       "      <td>-84.223278</td>\n",
       "      <td>31.612121</td>\n",
       "      <td>Steak, Tapas, Bar Food</td>\n",
       "      <td>...</td>\n",
       "      <td>Dollar($)</td>\n",
       "      <td>No</td>\n",
       "      <td>No</td>\n",
       "      <td>No</td>\n",
       "      <td>No</td>\n",
       "      <td>4</td>\n",
       "      <td>3.5</td>\n",
       "      <td>Yellow</td>\n",
       "      <td>Good</td>\n",
       "      <td>51</td>\n",
       "    </tr>\n",
       "    <tr>\n",
       "      <th>92</th>\n",
       "      <td>17284145</td>\n",
       "      <td>Hong Kong Cafe</td>\n",
       "      <td>216</td>\n",
       "      <td>Albany</td>\n",
       "      <td>2700 Dawson Rd, Albany, GA 31707</td>\n",
       "      <td>Albany</td>\n",
       "      <td>Albany, Albany</td>\n",
       "      <td>-84.219100</td>\n",
       "      <td>31.615600</td>\n",
       "      <td>Chinese, Seafood, Vegetarian</td>\n",
       "      <td>...</td>\n",
       "      <td>Dollar($)</td>\n",
       "      <td>No</td>\n",
       "      <td>No</td>\n",
       "      <td>No</td>\n",
       "      <td>No</td>\n",
       "      <td>2</td>\n",
       "      <td>3.6</td>\n",
       "      <td>Yellow</td>\n",
       "      <td>Good</td>\n",
       "      <td>88</td>\n",
       "    </tr>\n",
       "    <tr>\n",
       "      <th>93</th>\n",
       "      <td>17284150</td>\n",
       "      <td>House of China Restaurant II</td>\n",
       "      <td>216</td>\n",
       "      <td>Albany</td>\n",
       "      <td>2526 Dawson Rd Ste A, Albany, GA 31707</td>\n",
       "      <td>Albany</td>\n",
       "      <td>Albany, Albany</td>\n",
       "      <td>-84.212000</td>\n",
       "      <td>31.610400</td>\n",
       "      <td>Chinese</td>\n",
       "      <td>...</td>\n",
       "      <td>Dollar($)</td>\n",
       "      <td>No</td>\n",
       "      <td>No</td>\n",
       "      <td>No</td>\n",
       "      <td>No</td>\n",
       "      <td>1</td>\n",
       "      <td>3.8</td>\n",
       "      <td>Yellow</td>\n",
       "      <td>Good</td>\n",
       "      <td>153</td>\n",
       "    </tr>\n",
       "    <tr>\n",
       "      <th>94</th>\n",
       "      <td>17284158</td>\n",
       "      <td>Jimmie's Hot Dogs</td>\n",
       "      <td>216</td>\n",
       "      <td>Albany</td>\n",
       "      <td>204 S Jackson St, Albany, GA 31701</td>\n",
       "      <td>Albany</td>\n",
       "      <td>Albany, Albany</td>\n",
       "      <td>-84.153400</td>\n",
       "      <td>31.575100</td>\n",
       "      <td>NaN</td>\n",
       "      <td>...</td>\n",
       "      <td>Dollar($)</td>\n",
       "      <td>No</td>\n",
       "      <td>No</td>\n",
       "      <td>No</td>\n",
       "      <td>No</td>\n",
       "      <td>1</td>\n",
       "      <td>3.9</td>\n",
       "      <td>Yellow</td>\n",
       "      <td>Good</td>\n",
       "      <td>160</td>\n",
       "    </tr>\n",
       "    <tr>\n",
       "      <th>95</th>\n",
       "      <td>17284175</td>\n",
       "      <td>Locos Grill &amp; Pub</td>\n",
       "      <td>216</td>\n",
       "      <td>Albany</td>\n",
       "      <td>547 N Westover Blvd, Albany, GA 31707</td>\n",
       "      <td>Albany</td>\n",
       "      <td>Albany, Albany</td>\n",
       "      <td>-84.222800</td>\n",
       "      <td>31.607700</td>\n",
       "      <td>American, Burger, Sandwich</td>\n",
       "      <td>...</td>\n",
       "      <td>Dollar($)</td>\n",
       "      <td>No</td>\n",
       "      <td>No</td>\n",
       "      <td>No</td>\n",
       "      <td>No</td>\n",
       "      <td>2</td>\n",
       "      <td>3.5</td>\n",
       "      <td>Yellow</td>\n",
       "      <td>Good</td>\n",
       "      <td>57</td>\n",
       "    </tr>\n",
       "    <tr>\n",
       "      <th>96</th>\n",
       "      <td>17284179</td>\n",
       "      <td>Longhorn Steakhouse</td>\n",
       "      <td>216</td>\n",
       "      <td>Albany</td>\n",
       "      <td>2733 Dawson Rd, Albany, GA 31707</td>\n",
       "      <td>Albany</td>\n",
       "      <td>Albany, Albany</td>\n",
       "      <td>-84.222900</td>\n",
       "      <td>31.618500</td>\n",
       "      <td>American, Steak</td>\n",
       "      <td>...</td>\n",
       "      <td>Dollar($)</td>\n",
       "      <td>No</td>\n",
       "      <td>No</td>\n",
       "      <td>No</td>\n",
       "      <td>No</td>\n",
       "      <td>2</td>\n",
       "      <td>3.5</td>\n",
       "      <td>Yellow</td>\n",
       "      <td>Good</td>\n",
       "      <td>58</td>\n",
       "    </tr>\n",
       "    <tr>\n",
       "      <th>97</th>\n",
       "      <td>17284197</td>\n",
       "      <td>Mikata Japanese Steakhouse</td>\n",
       "      <td>216</td>\n",
       "      <td>Albany</td>\n",
       "      <td>2610 Dawson Rd, Albany, GA 31707</td>\n",
       "      <td>Albany</td>\n",
       "      <td>Albany, Albany</td>\n",
       "      <td>-84.216400</td>\n",
       "      <td>31.613700</td>\n",
       "      <td>Japanese, Steak, Sushi</td>\n",
       "      <td>...</td>\n",
       "      <td>Dollar($)</td>\n",
       "      <td>No</td>\n",
       "      <td>No</td>\n",
       "      <td>No</td>\n",
       "      <td>No</td>\n",
       "      <td>3</td>\n",
       "      <td>3.6</td>\n",
       "      <td>Yellow</td>\n",
       "      <td>Good</td>\n",
       "      <td>115</td>\n",
       "    </tr>\n",
       "  </tbody>\n",
       "</table>\n",
       "<p>15 rows × 21 columns</p>\n",
       "</div>"
      ],
      "text/plain": [
       "    Restaurant ID                 Restaurant Name  Country Code    City  \\\n",
       "83       17284203             BJ's Country Buffet           216  Albany   \n",
       "84       17284105                   Cookie Shoppe           216  Albany   \n",
       "85       17284302   El Vaquero Mexican Restaurant           216  Albany   \n",
       "86       17284397  Elements Coffee Co - Northwest           216  Albany   \n",
       "87       17284211  Pearly's Famous Country Cookng           216  Albany   \n",
       "88       17284094                     Chick-fil-A           216  Albany   \n",
       "89       17284409   Guang Zhou Chinese Restaurant           216  Albany   \n",
       "90       17284139                    Harvest Moon           216  Albany   \n",
       "91       17284403     Henry Campbell's Steakhouse           216  Albany   \n",
       "92       17284145                  Hong Kong Cafe           216  Albany   \n",
       "93       17284150    House of China Restaurant II           216  Albany   \n",
       "94       17284158               Jimmie's Hot Dogs           216  Albany   \n",
       "95       17284175               Locos Grill & Pub           216  Albany   \n",
       "96       17284179             Longhorn Steakhouse           216  Albany   \n",
       "97       17284197      Mikata Japanese Steakhouse           216  Albany   \n",
       "\n",
       "                                   Address Locality Locality Verbose  \\\n",
       "83        2401 Dawson Rd, Albany, GA 31707   Albany   Albany, Albany   \n",
       "84      115 N Jackson St, Albany, GA 31701   Albany   Albany, Albany   \n",
       "85        2700 Dawson Rd, Albany, GA 31707   Albany   Albany, Albany   \n",
       "86   2726 Ledo Rd Ste 10, Albany, GA 31707   Albany   Albany, Albany   \n",
       "87    814 N Slappey Blvd, Albany, GA 31701   Albany   Albany, Albany   \n",
       "88        2703 Dawson Rd, Albany, GA 31707   Albany   Albany, Albany   \n",
       "89  1214 N Westover Blvd, Albany, GA 31707   Albany   Albany, Albany   \n",
       "90      2347 Dawson Road, Albany, GA 31707   Albany   Albany, Albany   \n",
       "91  629 N. Westover Blvd, Albany, GA 31707   Albany   Albany, Albany   \n",
       "92        2700 Dawson Rd, Albany, GA 31707   Albany   Albany, Albany   \n",
       "93  2526 Dawson Rd Ste A, Albany, GA 31707   Albany   Albany, Albany   \n",
       "94      204 S Jackson St, Albany, GA 31701   Albany   Albany, Albany   \n",
       "95   547 N Westover Blvd, Albany, GA 31707   Albany   Albany, Albany   \n",
       "96        2733 Dawson Rd, Albany, GA 31707   Albany   Albany, Albany   \n",
       "97        2610 Dawson Rd, Albany, GA 31707   Albany   Albany, Albany   \n",
       "\n",
       "    Longitude   Latitude                      Cuisines  ...   Currency  \\\n",
       "83 -84.207095  31.608743                 American, BBQ  ...  Dollar($)   \n",
       "84 -84.154000  31.577200                           NaN  ...  Dollar($)   \n",
       "85 -84.219400  31.615800                       Mexican  ...  Dollar($)   \n",
       "86 -84.206944  31.622412      Coffee and Tea, Sandwich  ...  Dollar($)   \n",
       "87 -84.175900  31.588200                           NaN  ...  Dollar($)   \n",
       "88 -84.219300  31.616000                     Fast Food  ...  Dollar($)   \n",
       "89 -84.209146  31.615519    Asian, Chinese, Vegetarian  ...  Dollar($)   \n",
       "90 -84.205718  31.604905     Pizza, Bar Food, Sandwich  ...  Dollar($)   \n",
       "91 -84.223278  31.612121        Steak, Tapas, Bar Food  ...  Dollar($)   \n",
       "92 -84.219100  31.615600  Chinese, Seafood, Vegetarian  ...  Dollar($)   \n",
       "93 -84.212000  31.610400                       Chinese  ...  Dollar($)   \n",
       "94 -84.153400  31.575100                           NaN  ...  Dollar($)   \n",
       "95 -84.222800  31.607700    American, Burger, Sandwich  ...  Dollar($)   \n",
       "96 -84.222900  31.618500               American, Steak  ...  Dollar($)   \n",
       "97 -84.216400  31.613700        Japanese, Steak, Sushi  ...  Dollar($)   \n",
       "\n",
       "   Has Table booking Has Online delivery Is delivering now  \\\n",
       "83                No                  No                No   \n",
       "84                No                  No                No   \n",
       "85                No                  No                No   \n",
       "86                No                  No                No   \n",
       "87                No                  No                No   \n",
       "88                No                  No                No   \n",
       "89                No                  No                No   \n",
       "90                No                  No                No   \n",
       "91                No                  No                No   \n",
       "92                No                  No                No   \n",
       "93                No                  No                No   \n",
       "94                No                  No                No   \n",
       "95                No                  No                No   \n",
       "96                No                  No                No   \n",
       "97                No                  No                No   \n",
       "\n",
       "   Switch to order menu Price range  Aggregate rating  Rating color  \\\n",
       "83                   No           1               3.3        Orange   \n",
       "84                   No           1               3.4        Orange   \n",
       "85                   No           1               3.4        Orange   \n",
       "86                   No           1               3.4        Orange   \n",
       "87                   No           1               3.4        Orange   \n",
       "88                   No           1               3.5        Yellow   \n",
       "89                   No           1               3.9        Yellow   \n",
       "90                   No           2               3.7        Yellow   \n",
       "91                   No           4               3.5        Yellow   \n",
       "92                   No           2               3.6        Yellow   \n",
       "93                   No           1               3.8        Yellow   \n",
       "94                   No           1               3.9        Yellow   \n",
       "95                   No           2               3.5        Yellow   \n",
       "96                   No           2               3.5        Yellow   \n",
       "97                   No           3               3.6        Yellow   \n",
       "\n",
       "   Rating text Votes  \n",
       "83     Average    25  \n",
       "84     Average    34  \n",
       "85     Average    45  \n",
       "86     Average    26  \n",
       "87     Average    36  \n",
       "88        Good    67  \n",
       "89        Good   141  \n",
       "90        Good   147  \n",
       "91        Good    51  \n",
       "92        Good    88  \n",
       "93        Good   153  \n",
       "94        Good   160  \n",
       "95        Good    57  \n",
       "96        Good    58  \n",
       "97        Good   115  \n",
       "\n",
       "[15 rows x 21 columns]"
      ]
     },
     "execution_count": 4,
     "metadata": {},
     "output_type": "execute_result"
    }
   ],
   "source": [
    "# display the last 5 entries\n",
    "df.tail(15)"
   ]
  },
  {
   "cell_type": "code",
   "execution_count": 5,
   "metadata": {
    "collapsed": false,
    "deletable": true,
    "editable": true
   },
   "outputs": [
    {
     "data": {
      "text/plain": [
       "98"
      ]
     },
     "execution_count": 5,
     "metadata": {},
     "output_type": "execute_result"
    }
   ],
   "source": [
    "# display the total number of rows\n",
    "len(df)"
   ]
  },
  {
   "cell_type": "code",
   "execution_count": 6,
   "metadata": {
    "collapsed": false,
    "deletable": true,
    "editable": true
   },
   "outputs": [
    {
     "data": {
      "text/plain": [
       "98"
      ]
     },
     "execution_count": 6,
     "metadata": {},
     "output_type": "execute_result"
    }
   ],
   "source": [
    "# display the total number of rows \n",
    "df.shape[0]"
   ]
  },
  {
   "cell_type": "code",
   "execution_count": 7,
   "metadata": {
    "collapsed": false,
    "deletable": true,
    "editable": true
   },
   "outputs": [
    {
     "data": {
      "text/plain": [
       "21"
      ]
     },
     "execution_count": 7,
     "metadata": {},
     "output_type": "execute_result"
    }
   ],
   "source": [
    "# display the total number of columns\n",
    "df.shape[1]"
   ]
  },
  {
   "cell_type": "code",
   "execution_count": 8,
   "metadata": {
    "collapsed": false,
    "deletable": true,
    "editable": true
   },
   "outputs": [
    {
     "data": {
      "text/plain": [
       "(98, 21)"
      ]
     },
     "execution_count": 8,
     "metadata": {},
     "output_type": "execute_result"
    }
   ],
   "source": [
    "# display the dimensions of the dataframe\n",
    "df.shape"
   ]
  },
  {
   "cell_type": "code",
   "execution_count": 9,
   "metadata": {
    "collapsed": false,
    "deletable": true,
    "editable": true
   },
   "outputs": [
    {
     "data": {
      "text/plain": [
       "Index(['Restaurant ID', 'Restaurant Name', 'Country Code', 'City', 'Address',\n",
       "       'Locality', 'Locality Verbose', 'Longitude', 'Latitude', 'Cuisines',\n",
       "       'Average Cost for two', 'Currency', 'Has Table booking',\n",
       "       'Has Online delivery', 'Is delivering now', 'Switch to order menu',\n",
       "       'Price range', 'Aggregate rating', 'Rating color', 'Rating text',\n",
       "       'Votes'],\n",
       "      dtype='object')"
      ]
     },
     "execution_count": 9,
     "metadata": {},
     "output_type": "execute_result"
    }
   ],
   "source": [
    "# display the column names\n",
    "df.columns"
   ]
  },
  {
   "cell_type": "code",
   "execution_count": 10,
   "metadata": {
    "collapsed": false,
    "deletable": true,
    "editable": true
   },
   "outputs": [
    {
     "data": {
      "text/plain": [
       "0                             Le Petit Souffle\n",
       "1                             Izakaya Kikufuji\n",
       "2                       Heat - Edsa Shangri-La\n",
       "3                                         Ooma\n",
       "4                                  Sambo Kojin\n",
       "5                                 Din Tai Fung\n",
       "6                                   Buffet 101\n",
       "7                                      Vikings\n",
       "8     Spiral - Sofitel Philippine Plaza Manila\n",
       "9                                     Locavore\n",
       "10                            Silantro Fil-Mex\n",
       "11             Mad Mark's Creamery & Good Eats\n",
       "12                            Silantro Fil-Mex\n",
       "13                                  Guevarra's\n",
       "14                     Sodam Korean Restaurant\n",
       "15                               Cafe Arabelle\n",
       "16                    Nonna's Pasta & Pizzeria\n",
       "17                                  Balay Dako\n",
       "18                  Hobing Korean Dessert Cafe\n",
       "19                     Wildflour Cafe + Bakery\n",
       "20                              NIU by Vikings\n",
       "21               The Food Hall by Todd English\n",
       "22                                 Chez Michou\n",
       "23                         Cafí© Daniel Briand\n",
       "24                    Casa do Biscoito Mineiro\n",
       "25                                       Maori\n",
       "26                              Pizza íæ Bessa\n",
       "27                                  Sushi Loko\n",
       "28                                     Beirute\n",
       "29                                    New Koto\n",
       "                        ...                   \n",
       "68                          Red Steak & Burger\n",
       "69                            Cantinho da Gula\n",
       "70                           Paris 6 Classique\n",
       "71                                  Kawa Sushi\n",
       "72                         A Figueira Rubaiyat\n",
       "73                                   Kinoshita\n",
       "74                                       Meats\n",
       "75                                     Paribar\n",
       "76                            Terraí_o Itíçlia\n",
       "77                               Divino Fogí£o\n",
       "78                                 Super Grill\n",
       "79                             Esquina Mocotí_\n",
       "80                                      Veloso\n",
       "81                    Sainte Marie Gastronomia\n",
       "82                 Austin's BBQ and Oyster Bar\n",
       "83                         BJ's Country Buffet\n",
       "84                               Cookie Shoppe\n",
       "85               El Vaquero Mexican Restaurant\n",
       "86              Elements Coffee Co - Northwest\n",
       "87              Pearly's Famous Country Cookng\n",
       "88                                 Chick-fil-A\n",
       "89               Guang Zhou Chinese Restaurant\n",
       "90                                Harvest Moon\n",
       "91                 Henry Campbell's Steakhouse\n",
       "92                              Hong Kong Cafe\n",
       "93                House of China Restaurant II\n",
       "94                           Jimmie's Hot Dogs\n",
       "95                           Locos Grill & Pub\n",
       "96                         Longhorn Steakhouse\n",
       "97                  Mikata Japanese Steakhouse\n",
       "Name: Restaurant Name, Length: 98, dtype: object"
      ]
     },
     "execution_count": 10,
     "metadata": {},
     "output_type": "execute_result"
    }
   ],
   "source": [
    "# display the content of the feature named 'Restaurant Name'\n",
    "df['Restaurant Name']"
   ]
  },
  {
   "cell_type": "code",
   "execution_count": 11,
   "metadata": {
    "collapsed": false,
    "deletable": true,
    "editable": true
   },
   "outputs": [
    {
     "data": {
      "text/plain": [
       "0      314\n",
       "1      591\n",
       "2      270\n",
       "3      365\n",
       "4      229\n",
       "5      336\n",
       "6      520\n",
       "7      677\n",
       "8      621\n",
       "9      532\n",
       "10    1070\n",
       "11     488\n",
       "12     294\n",
       "13     458\n",
       "14     223\n",
       "15      29\n",
       "16      72\n",
       "17     211\n",
       "18     118\n",
       "19     392\n",
       "20     535\n",
       "21     618\n",
       "22       6\n",
       "23       9\n",
       "24      11\n",
       "25      11\n",
       "26      11\n",
       "27      10\n",
       "28       8\n",
       "29       5\n",
       "      ... \n",
       "68       5\n",
       "69       0\n",
       "70      73\n",
       "71       9\n",
       "72      39\n",
       "73      12\n",
       "74      68\n",
       "75      46\n",
       "76      37\n",
       "77       2\n",
       "78       2\n",
       "79      22\n",
       "80      58\n",
       "81      11\n",
       "82      35\n",
       "83      25\n",
       "84      34\n",
       "85      45\n",
       "86      26\n",
       "87      36\n",
       "88      67\n",
       "89     141\n",
       "90     147\n",
       "91      51\n",
       "92      88\n",
       "93     153\n",
       "94     160\n",
       "95      57\n",
       "96      58\n",
       "97     115\n",
       "Name: Votes, Length: 98, dtype: int64"
      ]
     },
     "execution_count": 11,
     "metadata": {},
     "output_type": "execute_result"
    }
   ],
   "source": [
    "# display the content of the feature named 'Votes'\n",
    "df.Votes"
   ]
  },
  {
   "cell_type": "code",
   "execution_count": 12,
   "metadata": {
    "collapsed": false,
    "deletable": true,
    "editable": true
   },
   "outputs": [
    {
     "data": {
      "text/plain": [
       "dtype('int64')"
      ]
     },
     "execution_count": 12,
     "metadata": {},
     "output_type": "execute_result"
    }
   ],
   "source": [
    "# What type of data is it?\n",
    "df['Average Cost for two'].dtypes"
   ]
  },
  {
   "cell_type": "code",
   "execution_count": 13,
   "metadata": {
    "collapsed": false,
    "deletable": true,
    "editable": true
   },
   "outputs": [
    {
     "data": {
      "text/plain": [
       "dtype('O')"
      ]
     },
     "execution_count": 13,
     "metadata": {},
     "output_type": "execute_result"
    }
   ],
   "source": [
    "# What type of data is it?\n",
    "df.City.dtypes"
   ]
  },
  {
   "cell_type": "code",
   "execution_count": 14,
   "metadata": {
    "collapsed": false,
    "deletable": true,
    "editable": true
   },
   "outputs": [
    {
     "data": {
      "text/plain": [
       "Restaurant ID             int64\n",
       "Restaurant Name          object\n",
       "Country Code              int64\n",
       "City                     object\n",
       "Address                  object\n",
       "Locality                 object\n",
       "Locality Verbose         object\n",
       "Longitude               float64\n",
       "Latitude                float64\n",
       "Cuisines                 object\n",
       "Average Cost for two      int64\n",
       "Currency                 object\n",
       "Has Table booking        object\n",
       "Has Online delivery      object\n",
       "Is delivering now        object\n",
       "Switch to order menu     object\n",
       "Price range               int64\n",
       "Aggregate rating        float64\n",
       "Rating color             object\n",
       "Rating text              object\n",
       "Votes                     int64\n",
       "dtype: object"
      ]
     },
     "execution_count": 14,
     "metadata": {},
     "output_type": "execute_result"
    }
   ],
   "source": [
    "# display all data types in dataframe\n",
    "df.dtypes"
   ]
  },
  {
   "cell_type": "code",
   "execution_count": 15,
   "metadata": {
    "collapsed": false,
    "deletable": true,
    "editable": true
   },
   "outputs": [
    {
     "data": {
      "text/html": [
       "<div>\n",
       "<style scoped>\n",
       "    .dataframe tbody tr th:only-of-type {\n",
       "        vertical-align: middle;\n",
       "    }\n",
       "\n",
       "    .dataframe tbody tr th {\n",
       "        vertical-align: top;\n",
       "    }\n",
       "\n",
       "    .dataframe thead th {\n",
       "        text-align: right;\n",
       "    }\n",
       "</style>\n",
       "<table border=\"1\" class=\"dataframe\">\n",
       "  <thead>\n",
       "    <tr style=\"text-align: right;\">\n",
       "      <th></th>\n",
       "      <th>restaurant_id</th>\n",
       "      <th>restaurant_name</th>\n",
       "      <th>country_code</th>\n",
       "      <th>city</th>\n",
       "      <th>address</th>\n",
       "      <th>locality</th>\n",
       "      <th>locality_verbose</th>\n",
       "      <th>longitude</th>\n",
       "      <th>latitude</th>\n",
       "      <th>cuisines</th>\n",
       "      <th>...</th>\n",
       "      <th>currency</th>\n",
       "      <th>has_table_booking</th>\n",
       "      <th>has_online_delivery</th>\n",
       "      <th>is_delivering_now</th>\n",
       "      <th>switch_to_order_menu</th>\n",
       "      <th>price_range</th>\n",
       "      <th>aggregate_rating</th>\n",
       "      <th>rating_color</th>\n",
       "      <th>rating_text</th>\n",
       "      <th>votes</th>\n",
       "    </tr>\n",
       "  </thead>\n",
       "  <tbody>\n",
       "    <tr>\n",
       "      <th>0</th>\n",
       "      <td>6317637</td>\n",
       "      <td>Le Petit Souffle</td>\n",
       "      <td>162</td>\n",
       "      <td>Makati City</td>\n",
       "      <td>Third Floor, Century City Mall, Kalayaan Avenu...</td>\n",
       "      <td>Century City Mall, Poblacion, Makati City</td>\n",
       "      <td>Century City Mall, Poblacion, Makati City, Mak...</td>\n",
       "      <td>121.027535</td>\n",
       "      <td>14.565443</td>\n",
       "      <td>French, Japanese, Desserts</td>\n",
       "      <td>...</td>\n",
       "      <td>Botswana Pula(P)</td>\n",
       "      <td>Yes</td>\n",
       "      <td>No</td>\n",
       "      <td>No</td>\n",
       "      <td>No</td>\n",
       "      <td>3</td>\n",
       "      <td>4.8</td>\n",
       "      <td>Dark Green</td>\n",
       "      <td>Excellent</td>\n",
       "      <td>314</td>\n",
       "    </tr>\n",
       "    <tr>\n",
       "      <th>1</th>\n",
       "      <td>6304287</td>\n",
       "      <td>Izakaya Kikufuji</td>\n",
       "      <td>162</td>\n",
       "      <td>Makati City</td>\n",
       "      <td>Little Tokyo, 2277 Chino Roces Avenue, Legaspi...</td>\n",
       "      <td>Little Tokyo, Legaspi Village, Makati City</td>\n",
       "      <td>Little Tokyo, Legaspi Village, Makati City, Ma...</td>\n",
       "      <td>121.014101</td>\n",
       "      <td>14.553708</td>\n",
       "      <td>Japanese</td>\n",
       "      <td>...</td>\n",
       "      <td>Botswana Pula(P)</td>\n",
       "      <td>Yes</td>\n",
       "      <td>No</td>\n",
       "      <td>No</td>\n",
       "      <td>No</td>\n",
       "      <td>3</td>\n",
       "      <td>4.5</td>\n",
       "      <td>Dark Green</td>\n",
       "      <td>Excellent</td>\n",
       "      <td>591</td>\n",
       "    </tr>\n",
       "    <tr>\n",
       "      <th>2</th>\n",
       "      <td>6300002</td>\n",
       "      <td>Heat - Edsa Shangri-La</td>\n",
       "      <td>162</td>\n",
       "      <td>Mandaluyong City</td>\n",
       "      <td>Edsa Shangri-La, 1 Garden Way, Ortigas, Mandal...</td>\n",
       "      <td>Edsa Shangri-La, Ortigas, Mandaluyong City</td>\n",
       "      <td>Edsa Shangri-La, Ortigas, Mandaluyong City, Ma...</td>\n",
       "      <td>121.056831</td>\n",
       "      <td>14.581404</td>\n",
       "      <td>Seafood, Asian, Filipino, Indian</td>\n",
       "      <td>...</td>\n",
       "      <td>Botswana Pula(P)</td>\n",
       "      <td>Yes</td>\n",
       "      <td>No</td>\n",
       "      <td>No</td>\n",
       "      <td>No</td>\n",
       "      <td>4</td>\n",
       "      <td>4.4</td>\n",
       "      <td>Green</td>\n",
       "      <td>Very Good</td>\n",
       "      <td>270</td>\n",
       "    </tr>\n",
       "    <tr>\n",
       "      <th>3</th>\n",
       "      <td>6318506</td>\n",
       "      <td>Ooma</td>\n",
       "      <td>162</td>\n",
       "      <td>Mandaluyong City</td>\n",
       "      <td>Third Floor, Mega Fashion Hall, SM Megamall, O...</td>\n",
       "      <td>SM Megamall, Ortigas, Mandaluyong City</td>\n",
       "      <td>SM Megamall, Ortigas, Mandaluyong City, Mandal...</td>\n",
       "      <td>121.056475</td>\n",
       "      <td>14.585318</td>\n",
       "      <td>Japanese, Sushi</td>\n",
       "      <td>...</td>\n",
       "      <td>Botswana Pula(P)</td>\n",
       "      <td>No</td>\n",
       "      <td>No</td>\n",
       "      <td>No</td>\n",
       "      <td>No</td>\n",
       "      <td>4</td>\n",
       "      <td>4.9</td>\n",
       "      <td>Dark Green</td>\n",
       "      <td>Excellent</td>\n",
       "      <td>365</td>\n",
       "    </tr>\n",
       "    <tr>\n",
       "      <th>4</th>\n",
       "      <td>6314302</td>\n",
       "      <td>Sambo Kojin</td>\n",
       "      <td>162</td>\n",
       "      <td>Mandaluyong City</td>\n",
       "      <td>Third Floor, Mega Atrium, SM Megamall, Ortigas...</td>\n",
       "      <td>SM Megamall, Ortigas, Mandaluyong City</td>\n",
       "      <td>SM Megamall, Ortigas, Mandaluyong City, Mandal...</td>\n",
       "      <td>121.057508</td>\n",
       "      <td>14.584450</td>\n",
       "      <td>Japanese, Korean</td>\n",
       "      <td>...</td>\n",
       "      <td>Botswana Pula(P)</td>\n",
       "      <td>Yes</td>\n",
       "      <td>No</td>\n",
       "      <td>No</td>\n",
       "      <td>No</td>\n",
       "      <td>4</td>\n",
       "      <td>4.8</td>\n",
       "      <td>Dark Green</td>\n",
       "      <td>Excellent</td>\n",
       "      <td>229</td>\n",
       "    </tr>\n",
       "  </tbody>\n",
       "</table>\n",
       "<p>5 rows × 21 columns</p>\n",
       "</div>"
      ],
      "text/plain": [
       "   restaurant_id         restaurant_name  country_code              city  \\\n",
       "0        6317637        Le Petit Souffle           162       Makati City   \n",
       "1        6304287        Izakaya Kikufuji           162       Makati City   \n",
       "2        6300002  Heat - Edsa Shangri-La           162  Mandaluyong City   \n",
       "3        6318506                    Ooma           162  Mandaluyong City   \n",
       "4        6314302             Sambo Kojin           162  Mandaluyong City   \n",
       "\n",
       "                                             address  \\\n",
       "0  Third Floor, Century City Mall, Kalayaan Avenu...   \n",
       "1  Little Tokyo, 2277 Chino Roces Avenue, Legaspi...   \n",
       "2  Edsa Shangri-La, 1 Garden Way, Ortigas, Mandal...   \n",
       "3  Third Floor, Mega Fashion Hall, SM Megamall, O...   \n",
       "4  Third Floor, Mega Atrium, SM Megamall, Ortigas...   \n",
       "\n",
       "                                     locality  \\\n",
       "0   Century City Mall, Poblacion, Makati City   \n",
       "1  Little Tokyo, Legaspi Village, Makati City   \n",
       "2  Edsa Shangri-La, Ortigas, Mandaluyong City   \n",
       "3      SM Megamall, Ortigas, Mandaluyong City   \n",
       "4      SM Megamall, Ortigas, Mandaluyong City   \n",
       "\n",
       "                                    locality_verbose   longitude   latitude  \\\n",
       "0  Century City Mall, Poblacion, Makati City, Mak...  121.027535  14.565443   \n",
       "1  Little Tokyo, Legaspi Village, Makati City, Ma...  121.014101  14.553708   \n",
       "2  Edsa Shangri-La, Ortigas, Mandaluyong City, Ma...  121.056831  14.581404   \n",
       "3  SM Megamall, Ortigas, Mandaluyong City, Mandal...  121.056475  14.585318   \n",
       "4  SM Megamall, Ortigas, Mandaluyong City, Mandal...  121.057508  14.584450   \n",
       "\n",
       "                           cuisines  ...          currency has_table_booking  \\\n",
       "0        French, Japanese, Desserts  ...  Botswana Pula(P)               Yes   \n",
       "1                          Japanese  ...  Botswana Pula(P)               Yes   \n",
       "2  Seafood, Asian, Filipino, Indian  ...  Botswana Pula(P)               Yes   \n",
       "3                   Japanese, Sushi  ...  Botswana Pula(P)                No   \n",
       "4                  Japanese, Korean  ...  Botswana Pula(P)               Yes   \n",
       "\n",
       "  has_online_delivery is_delivering_now switch_to_order_menu price_range  \\\n",
       "0                  No                No                   No           3   \n",
       "1                  No                No                   No           3   \n",
       "2                  No                No                   No           4   \n",
       "3                  No                No                   No           4   \n",
       "4                  No                No                   No           4   \n",
       "\n",
       "   aggregate_rating  rating_color rating_text votes  \n",
       "0               4.8    Dark Green   Excellent   314  \n",
       "1               4.5    Dark Green   Excellent   591  \n",
       "2               4.4         Green   Very Good   270  \n",
       "3               4.9    Dark Green   Excellent   365  \n",
       "4               4.8    Dark Green   Excellent   229  \n",
       "\n",
       "[5 rows x 21 columns]"
      ]
     },
     "execution_count": 15,
     "metadata": {},
     "output_type": "execute_result"
    }
   ],
   "source": [
    "# just some modifications to ease our acces to dataframe columns\n",
    "#c_stripped = df.columns.str.strip() # removes all leading and trailing whitespaces (just in case)\n",
    "#c_lowered = c_stripped.str.lower()  # returns the lowercased string\n",
    "#c_replaced = c_lowered.str.replace(\" \", \"_\") # replaces whitespaces with underscore\n",
    "\n",
    "# updates the column names of df \n",
    "#df.columns = c_replaced\n",
    "\n",
    "# or...\n",
    "df.columns = df.columns.str.strip().str.lower().str.replace(\" \", \"_\")\n",
    "\n",
    "df.head()"
   ]
  },
  {
   "cell_type": "code",
   "execution_count": 16,
   "metadata": {
    "collapsed": false,
    "deletable": true,
    "editable": true
   },
   "outputs": [
    {
     "data": {
      "text/plain": [
       "0     1100\n",
       "1     1200\n",
       "2     4000\n",
       "3     1500\n",
       "4     1500\n",
       "5     1000\n",
       "6     2000\n",
       "7     2000\n",
       "8     6000\n",
       "9     1100\n",
       "10     800\n",
       "11     900\n",
       "12     800\n",
       "13    1000\n",
       "14     700\n",
       "15     800\n",
       "16     850\n",
       "17    1200\n",
       "18     600\n",
       "19    1500\n",
       "20    3000\n",
       "21    1800\n",
       "22      55\n",
       "23      30\n",
       "24      45\n",
       "25      60\n",
       "26      50\n",
       "27      80\n",
       "28      90\n",
       "29     200\n",
       "      ... \n",
       "68      75\n",
       "69      55\n",
       "70     200\n",
       "71     120\n",
       "72     300\n",
       "73     230\n",
       "74     120\n",
       "75     150\n",
       "76     400\n",
       "77      65\n",
       "78      50\n",
       "79     100\n",
       "80      70\n",
       "81     120\n",
       "82      25\n",
       "83      10\n",
       "84       0\n",
       "85       0\n",
       "86      10\n",
       "87       0\n",
       "88      10\n",
       "89      10\n",
       "90      25\n",
       "91      70\n",
       "92      25\n",
       "93      10\n",
       "94      10\n",
       "95      25\n",
       "96      25\n",
       "97      40\n",
       "Name: average_cost_for_two, Length: 98, dtype: int64"
      ]
     },
     "execution_count": 16,
     "metadata": {},
     "output_type": "execute_result"
    }
   ],
   "source": [
    "df.average_cost_for_two"
   ]
  },
  {
   "cell_type": "code",
   "execution_count": 17,
   "metadata": {
    "collapsed": false,
    "deletable": true,
    "editable": true
   },
   "outputs": [
    {
     "name": "stdout",
     "output_type": "stream",
     "text": [
      "mean =  446.1734693877551\n"
     ]
    }
   ],
   "source": [
    "# find the mean cost for two\n",
    "cost = df.average_cost_for_two\n",
    "\n",
    "total = 0\n",
    "for i in range(len(cost)):\n",
    "    total = total + cost[i]\n",
    "ave = total / (i+1)\n",
    "print('mean = ', ave)"
   ]
  },
  {
   "cell_type": "code",
   "execution_count": 18,
   "metadata": {
    "collapsed": false,
    "deletable": true,
    "editable": true
   },
   "outputs": [
    {
     "name": "stdout",
     "output_type": "stream",
     "text": [
      "mean =  446.1734693877551\n"
     ]
    }
   ],
   "source": [
    "# let's write our own function to find out the mean\n",
    "def find_average(temp):\n",
    "    total = 0\n",
    "    for i in range(len(temp)):\n",
    "        total = total + temp[i]\n",
    "    ave = total / (i+1)\n",
    "    return ave\n",
    "\n",
    "ort = find_average(cost)\n",
    "print('mean = ', ort)"
   ]
  },
  {
   "cell_type": "code",
   "execution_count": 19,
   "metadata": {
    "collapsed": false,
    "deletable": true,
    "editable": true
   },
   "outputs": [
    {
     "name": "stdout",
     "output_type": "stream",
     "text": [
      "mean =  446.1734693877551\n"
     ]
    }
   ],
   "source": [
    "# you can always use your own functions but...\n",
    "print('mean = ', cost.mean())"
   ]
  },
  {
   "cell_type": "code",
   "execution_count": 20,
   "metadata": {
    "collapsed": false,
    "deletable": true,
    "editable": true
   },
   "outputs": [
    {
     "data": {
      "text/plain": [
       "98"
      ]
     },
     "execution_count": 20,
     "metadata": {},
     "output_type": "execute_result"
    }
   ],
   "source": [
    "# to find the number of entries\n",
    "cost.count()"
   ]
  },
  {
   "cell_type": "code",
   "execution_count": 21,
   "metadata": {
    "collapsed": false,
    "deletable": true,
    "editable": true
   },
   "outputs": [
    {
     "data": {
      "text/plain": [
       "6000"
      ]
     },
     "execution_count": 21,
     "metadata": {},
     "output_type": "execute_result"
    }
   ],
   "source": [
    "# find the range - start with maximum\n",
    "cost.max()"
   ]
  },
  {
   "cell_type": "code",
   "execution_count": 22,
   "metadata": {
    "collapsed": false,
    "deletable": true,
    "editable": true
   },
   "outputs": [
    {
     "data": {
      "text/plain": [
       "0"
      ]
     },
     "execution_count": 22,
     "metadata": {},
     "output_type": "execute_result"
    }
   ],
   "source": [
    "# and then minimum\n",
    "cost.min()"
   ]
  },
  {
   "cell_type": "code",
   "execution_count": 23,
   "metadata": {
    "collapsed": false,
    "deletable": true,
    "editable": true
   },
   "outputs": [
    {
     "data": {
      "text/plain": [
       "120.0"
      ]
     },
     "execution_count": 23,
     "metadata": {},
     "output_type": "execute_result"
    }
   ],
   "source": [
    "# let's check also for the median\n",
    "cost.median()"
   ]
  },
  {
   "cell_type": "code",
   "execution_count": 24,
   "metadata": {
    "collapsed": false,
    "deletable": true,
    "editable": true,
    "scrolled": true
   },
   "outputs": [
    {
     "data": {
      "text/plain": [
       "0    100\n",
       "dtype: int64"
      ]
     },
     "execution_count": 24,
     "metadata": {},
     "output_type": "execute_result"
    }
   ],
   "source": [
    "# and the mode\n",
    "cost.mode()"
   ]
  },
  {
   "cell_type": "code",
   "execution_count": 25,
   "metadata": {
    "collapsed": false,
    "deletable": true,
    "editable": true
   },
   "outputs": [
    {
     "data": {
      "text/plain": [
       "748729.2788764987"
      ]
     },
     "execution_count": 25,
     "metadata": {},
     "output_type": "execute_result"
    }
   ],
   "source": [
    "# what about the variance?\n",
    "cost.var()"
   ]
  },
  {
   "cell_type": "code",
   "execution_count": 26,
   "metadata": {
    "collapsed": false,
    "deletable": true,
    "editable": true
   },
   "outputs": [
    {
     "data": {
      "text/plain": [
       "865.2914415828338"
      ]
     },
     "execution_count": 26,
     "metadata": {},
     "output_type": "execute_result"
    }
   ],
   "source": [
    "# standard deviation\n",
    "cost.std()"
   ]
  },
  {
   "cell_type": "code",
   "execution_count": 30,
   "metadata": {
    "collapsed": false,
    "deletable": true,
    "editable": true
   },
   "outputs": [
    {
     "data": {
      "text/plain": [
       "1829.9999999999984"
      ]
     },
     "execution_count": 30,
     "metadata": {},
     "output_type": "execute_result"
    }
   ],
   "source": [
    "# percentiles\n",
    "cost.quantile(.95)  # just change the parameter to display the percentile you want"
   ]
  },
  {
   "cell_type": "code",
   "execution_count": 31,
   "metadata": {
    "collapsed": false,
    "deletable": true,
    "editable": true
   },
   "outputs": [
    {
     "data": {
      "text/plain": [
       "count      98.000000\n",
       "mean      446.173469\n",
       "std       865.291442\n",
       "min         0.000000\n",
       "25%        60.000000\n",
       "50%       120.000000\n",
       "75%       300.000000\n",
       "max      6000.000000\n",
       "Name: average_cost_for_two, dtype: float64"
      ]
     },
     "execution_count": 31,
     "metadata": {},
     "output_type": "execute_result"
    }
   ],
   "source": [
    "# but again there is a shortcut\n",
    "cost.describe()"
   ]
  },
  {
   "cell_type": "code",
   "execution_count": 32,
   "metadata": {
    "collapsed": false,
    "deletable": true,
    "editable": true
   },
   "outputs": [
    {
     "data": {
      "text/plain": [
       "98"
      ]
     },
     "execution_count": 32,
     "metadata": {},
     "output_type": "execute_result"
    }
   ],
   "source": [
    "# What about the qualitative features?\n",
    "df.currency.count()"
   ]
  },
  {
   "cell_type": "code",
   "execution_count": 33,
   "metadata": {
    "collapsed": false,
    "deletable": true,
    "editable": true
   },
   "outputs": [
    {
     "data": {
      "text/plain": [
       "array(['Botswana Pula(P)', 'Brazilian Real(R$)', 'Dollar($)'],\n",
       "      dtype=object)"
      ]
     },
     "execution_count": 33,
     "metadata": {},
     "output_type": "execute_result"
    }
   ],
   "source": [
    "# Displays the categories of the qualitative feature\n",
    "df.currency.unique()"
   ]
  },
  {
   "cell_type": "code",
   "execution_count": 34,
   "metadata": {
    "collapsed": false,
    "deletable": true,
    "editable": true
   },
   "outputs": [
    {
     "ename": "TypeError",
     "evalue": "Could not convert Botswana Pula(P)Botswana Pula(P)Botswana Pula(P)Botswana Pula(P)Botswana Pula(P)Botswana Pula(P)Botswana Pula(P)Botswana Pula(P)Botswana Pula(P)Botswana Pula(P)Botswana Pula(P)Botswana Pula(P)Botswana Pula(P)Botswana Pula(P)Botswana Pula(P)Botswana Pula(P)Botswana Pula(P)Botswana Pula(P)Botswana Pula(P)Botswana Pula(P)Botswana Pula(P)Botswana Pula(P)Brazilian Real(R$)Brazilian Real(R$)Brazilian Real(R$)Brazilian Real(R$)Brazilian Real(R$)Brazilian Real(R$)Brazilian Real(R$)Brazilian Real(R$)Brazilian Real(R$)Brazilian Real(R$)Brazilian Real(R$)Brazilian Real(R$)Brazilian Real(R$)Brazilian Real(R$)Brazilian Real(R$)Brazilian Real(R$)Brazilian Real(R$)Brazilian Real(R$)Brazilian Real(R$)Brazilian Real(R$)Brazilian Real(R$)Brazilian Real(R$)Brazilian Real(R$)Brazilian Real(R$)Brazilian Real(R$)Brazilian Real(R$)Brazilian Real(R$)Brazilian Real(R$)Brazilian Real(R$)Brazilian Real(R$)Brazilian Real(R$)Brazilian Real(R$)Brazilian Real(R$)Brazilian Real(R$)Brazilian Real(R$)Brazilian Real(R$)Brazilian Real(R$)Brazilian Real(R$)Brazilian Real(R$)Brazilian Real(R$)Brazilian Real(R$)Brazilian Real(R$)Brazilian Real(R$)Brazilian Real(R$)Brazilian Real(R$)Brazilian Real(R$)Brazilian Real(R$)Brazilian Real(R$)Brazilian Real(R$)Brazilian Real(R$)Brazilian Real(R$)Brazilian Real(R$)Brazilian Real(R$)Brazilian Real(R$)Brazilian Real(R$)Brazilian Real(R$)Brazilian Real(R$)Brazilian Real(R$)Brazilian Real(R$)Brazilian Real(R$)Dollar($)Dollar($)Dollar($)Dollar($)Dollar($)Dollar($)Dollar($)Dollar($)Dollar($)Dollar($)Dollar($)Dollar($)Dollar($)Dollar($)Dollar($)Dollar($) to numeric",
     "output_type": "error",
     "traceback": [
      "\u001b[1;31m---------------------------------------------------------------------------\u001b[0m",
      "\u001b[1;31mValueError\u001b[0m                                Traceback (most recent call last)",
      "\u001b[1;32m~\\Anaconda3\\lib\\site-packages\\pandas\\core\\nanops.py\u001b[0m in \u001b[0;36m_ensure_numeric\u001b[1;34m(x)\u001b[0m\n\u001b[0;32m   1163\u001b[0m         \u001b[1;32mtry\u001b[0m\u001b[1;33m:\u001b[0m\u001b[1;33m\u001b[0m\u001b[1;33m\u001b[0m\u001b[0m\n\u001b[1;32m-> 1164\u001b[1;33m             \u001b[0mx\u001b[0m \u001b[1;33m=\u001b[0m \u001b[0mfloat\u001b[0m\u001b[1;33m(\u001b[0m\u001b[0mx\u001b[0m\u001b[1;33m)\u001b[0m\u001b[1;33m\u001b[0m\u001b[1;33m\u001b[0m\u001b[0m\n\u001b[0m\u001b[0;32m   1165\u001b[0m         \u001b[1;32mexcept\u001b[0m \u001b[0mException\u001b[0m\u001b[1;33m:\u001b[0m\u001b[1;33m\u001b[0m\u001b[1;33m\u001b[0m\u001b[0m\n",
      "\u001b[1;31mValueError\u001b[0m: could not convert string to float: 'Botswana Pula(P)Botswana Pula(P)Botswana Pula(P)Botswana Pula(P)Botswana Pula(P)Botswana Pula(P)Botswana Pula(P)Botswana Pula(P)Botswana Pula(P)Botswana Pula(P)Botswana Pula(P)Botswana Pula(P)Botswana Pula(P)Botswana Pula(P)Botswana Pula(P)Botswana Pula(P)Botswana Pula(P)Botswana Pula(P)Botswana Pula(P)Botswana Pula(P)Botswana Pula(P)Botswana Pula(P)Brazilian Real(R$)Brazilian Real(R$)Brazilian Real(R$)Brazilian Real(R$)Brazilian Real(R$)Brazilian Real(R$)Brazilian Real(R$)Brazilian Real(R$)Brazilian Real(R$)Brazilian Real(R$)Brazilian Real(R$)Brazilian Real(R$)Brazilian Real(R$)Brazilian Real(R$)Brazilian Real(R$)Brazilian Real(R$)Brazilian Real(R$)Brazilian Real(R$)Brazilian Real(R$)Brazilian Real(R$)Brazilian Real(R$)Brazilian Real(R$)Brazilian Real(R$)Brazilian Real(R$)Brazilian Real(R$)Brazilian Real(R$)Brazilian Real(R$)Brazilian Real(R$)Brazilian Real(R$)Brazilian Real(R$)Brazilian Real(R$)Brazilian Real(R$)Brazilian Real(R$)Brazilian Real(R$)Brazilian Real(R$)Brazilian Real(R$)Brazilian Real(R$)Brazilian Real(R$)Brazilian Real(R$)Brazilian Real(R$)Brazilian Real(R$)Brazilian Real(R$)Brazilian Real(R$)Brazilian Real(R$)Brazilian Real(R$)Brazilian Real(R$)Brazilian Real(R$)Brazilian Real(R$)Brazilian Real(R$)Brazilian Real(R$)Brazilian Real(R$)Brazilian Real(R$)Brazilian Real(R$)Brazilian Real(R$)Brazilian Real(R$)Brazilian Real(R$)Brazilian Real(R$)Brazilian Real(R$)Brazilian Real(R$)Brazilian Real(R$)Dollar($)Dollar($)Dollar($)Dollar($)Dollar($)Dollar($)Dollar($)Dollar($)Dollar($)Dollar($)Dollar($)Dollar($)Dollar($)Dollar($)Dollar($)Dollar($)'",
      "\nDuring handling of the above exception, another exception occurred:\n",
      "\u001b[1;31mValueError\u001b[0m                                Traceback (most recent call last)",
      "\u001b[1;32m~\\Anaconda3\\lib\\site-packages\\pandas\\core\\nanops.py\u001b[0m in \u001b[0;36m_ensure_numeric\u001b[1;34m(x)\u001b[0m\n\u001b[0;32m   1166\u001b[0m             \u001b[1;32mtry\u001b[0m\u001b[1;33m:\u001b[0m\u001b[1;33m\u001b[0m\u001b[1;33m\u001b[0m\u001b[0m\n\u001b[1;32m-> 1167\u001b[1;33m                 \u001b[0mx\u001b[0m \u001b[1;33m=\u001b[0m \u001b[0mcomplex\u001b[0m\u001b[1;33m(\u001b[0m\u001b[0mx\u001b[0m\u001b[1;33m)\u001b[0m\u001b[1;33m\u001b[0m\u001b[1;33m\u001b[0m\u001b[0m\n\u001b[0m\u001b[0;32m   1168\u001b[0m             \u001b[1;32mexcept\u001b[0m \u001b[0mException\u001b[0m\u001b[1;33m:\u001b[0m\u001b[1;33m\u001b[0m\u001b[1;33m\u001b[0m\u001b[0m\n",
      "\u001b[1;31mValueError\u001b[0m: complex() arg is a malformed string",
      "\nDuring handling of the above exception, another exception occurred:\n",
      "\u001b[1;31mTypeError\u001b[0m                                 Traceback (most recent call last)",
      "\u001b[1;32m~\\Anaconda3\\lib\\site-packages\\pandas\\core\\nanops.py\u001b[0m in \u001b[0;36mf\u001b[1;34m(values, axis, skipna, **kwds)\u001b[0m\n\u001b[0;32m    126\u001b[0m                 \u001b[1;32melse\u001b[0m\u001b[1;33m:\u001b[0m\u001b[1;33m\u001b[0m\u001b[1;33m\u001b[0m\u001b[0m\n\u001b[1;32m--> 127\u001b[1;33m                     \u001b[0mresult\u001b[0m \u001b[1;33m=\u001b[0m \u001b[0malt\u001b[0m\u001b[1;33m(\u001b[0m\u001b[0mvalues\u001b[0m\u001b[1;33m,\u001b[0m \u001b[0maxis\u001b[0m\u001b[1;33m=\u001b[0m\u001b[0maxis\u001b[0m\u001b[1;33m,\u001b[0m \u001b[0mskipna\u001b[0m\u001b[1;33m=\u001b[0m\u001b[0mskipna\u001b[0m\u001b[1;33m,\u001b[0m \u001b[1;33m**\u001b[0m\u001b[0mkwds\u001b[0m\u001b[1;33m)\u001b[0m\u001b[1;33m\u001b[0m\u001b[1;33m\u001b[0m\u001b[0m\n\u001b[0m\u001b[0;32m    128\u001b[0m             \u001b[1;32mexcept\u001b[0m \u001b[0mException\u001b[0m\u001b[1;33m:\u001b[0m\u001b[1;33m\u001b[0m\u001b[1;33m\u001b[0m\u001b[0m\n",
      "\u001b[1;32m~\\Anaconda3\\lib\\site-packages\\pandas\\core\\nanops.py\u001b[0m in \u001b[0;36mnanmean\u001b[1;34m(values, axis, skipna, mask)\u001b[0m\n\u001b[0;32m    478\u001b[0m     \u001b[0mcount\u001b[0m \u001b[1;33m=\u001b[0m \u001b[0m_get_counts\u001b[0m\u001b[1;33m(\u001b[0m\u001b[0mmask\u001b[0m\u001b[1;33m,\u001b[0m \u001b[0maxis\u001b[0m\u001b[1;33m,\u001b[0m \u001b[0mdtype\u001b[0m\u001b[1;33m=\u001b[0m\u001b[0mdtype_count\u001b[0m\u001b[1;33m)\u001b[0m\u001b[1;33m\u001b[0m\u001b[1;33m\u001b[0m\u001b[0m\n\u001b[1;32m--> 479\u001b[1;33m     \u001b[0mthe_sum\u001b[0m \u001b[1;33m=\u001b[0m \u001b[0m_ensure_numeric\u001b[0m\u001b[1;33m(\u001b[0m\u001b[0mvalues\u001b[0m\u001b[1;33m.\u001b[0m\u001b[0msum\u001b[0m\u001b[1;33m(\u001b[0m\u001b[0maxis\u001b[0m\u001b[1;33m,\u001b[0m \u001b[0mdtype\u001b[0m\u001b[1;33m=\u001b[0m\u001b[0mdtype_sum\u001b[0m\u001b[1;33m)\u001b[0m\u001b[1;33m)\u001b[0m\u001b[1;33m\u001b[0m\u001b[1;33m\u001b[0m\u001b[0m\n\u001b[0m\u001b[0;32m    480\u001b[0m \u001b[1;33m\u001b[0m\u001b[0m\n",
      "\u001b[1;32m~\\Anaconda3\\lib\\site-packages\\pandas\\core\\nanops.py\u001b[0m in \u001b[0;36m_ensure_numeric\u001b[1;34m(x)\u001b[0m\n\u001b[0;32m   1169\u001b[0m                 raise TypeError('Could not convert {value!s} to numeric'\n\u001b[1;32m-> 1170\u001b[1;33m                                 .format(value=x))\n\u001b[0m\u001b[0;32m   1171\u001b[0m     \u001b[1;32mreturn\u001b[0m \u001b[0mx\u001b[0m\u001b[1;33m\u001b[0m\u001b[1;33m\u001b[0m\u001b[0m\n",
      "\u001b[1;31mTypeError\u001b[0m: Could not convert Botswana Pula(P)Botswana Pula(P)Botswana Pula(P)Botswana Pula(P)Botswana Pula(P)Botswana Pula(P)Botswana Pula(P)Botswana Pula(P)Botswana Pula(P)Botswana Pula(P)Botswana Pula(P)Botswana Pula(P)Botswana Pula(P)Botswana Pula(P)Botswana Pula(P)Botswana Pula(P)Botswana Pula(P)Botswana Pula(P)Botswana Pula(P)Botswana Pula(P)Botswana Pula(P)Botswana Pula(P)Brazilian Real(R$)Brazilian Real(R$)Brazilian Real(R$)Brazilian Real(R$)Brazilian Real(R$)Brazilian Real(R$)Brazilian Real(R$)Brazilian Real(R$)Brazilian Real(R$)Brazilian Real(R$)Brazilian Real(R$)Brazilian Real(R$)Brazilian Real(R$)Brazilian Real(R$)Brazilian Real(R$)Brazilian Real(R$)Brazilian Real(R$)Brazilian Real(R$)Brazilian Real(R$)Brazilian Real(R$)Brazilian Real(R$)Brazilian Real(R$)Brazilian Real(R$)Brazilian Real(R$)Brazilian Real(R$)Brazilian Real(R$)Brazilian Real(R$)Brazilian Real(R$)Brazilian Real(R$)Brazilian Real(R$)Brazilian Real(R$)Brazilian Real(R$)Brazilian Real(R$)Brazilian Real(R$)Brazilian Real(R$)Brazilian Real(R$)Brazilian Real(R$)Brazilian Real(R$)Brazilian Real(R$)Brazilian Real(R$)Brazilian Real(R$)Brazilian Real(R$)Brazilian Real(R$)Brazilian Real(R$)Brazilian Real(R$)Brazilian Real(R$)Brazilian Real(R$)Brazilian Real(R$)Brazilian Real(R$)Brazilian Real(R$)Brazilian Real(R$)Brazilian Real(R$)Brazilian Real(R$)Brazilian Real(R$)Brazilian Real(R$)Brazilian Real(R$)Brazilian Real(R$)Brazilian Real(R$)Brazilian Real(R$)Brazilian Real(R$)Dollar($)Dollar($)Dollar($)Dollar($)Dollar($)Dollar($)Dollar($)Dollar($)Dollar($)Dollar($)Dollar($)Dollar($)Dollar($)Dollar($)Dollar($)Dollar($) to numeric",
      "\nDuring handling of the above exception, another exception occurred:\n",
      "\u001b[1;31mValueError\u001b[0m                                Traceback (most recent call last)",
      "\u001b[1;32m~\\Anaconda3\\lib\\site-packages\\pandas\\core\\nanops.py\u001b[0m in \u001b[0;36m_ensure_numeric\u001b[1;34m(x)\u001b[0m\n\u001b[0;32m   1163\u001b[0m         \u001b[1;32mtry\u001b[0m\u001b[1;33m:\u001b[0m\u001b[1;33m\u001b[0m\u001b[1;33m\u001b[0m\u001b[0m\n\u001b[1;32m-> 1164\u001b[1;33m             \u001b[0mx\u001b[0m \u001b[1;33m=\u001b[0m \u001b[0mfloat\u001b[0m\u001b[1;33m(\u001b[0m\u001b[0mx\u001b[0m\u001b[1;33m)\u001b[0m\u001b[1;33m\u001b[0m\u001b[1;33m\u001b[0m\u001b[0m\n\u001b[0m\u001b[0;32m   1165\u001b[0m         \u001b[1;32mexcept\u001b[0m \u001b[0mException\u001b[0m\u001b[1;33m:\u001b[0m\u001b[1;33m\u001b[0m\u001b[1;33m\u001b[0m\u001b[0m\n",
      "\u001b[1;31mValueError\u001b[0m: could not convert string to float: 'Botswana Pula(P)Botswana Pula(P)Botswana Pula(P)Botswana Pula(P)Botswana Pula(P)Botswana Pula(P)Botswana Pula(P)Botswana Pula(P)Botswana Pula(P)Botswana Pula(P)Botswana Pula(P)Botswana Pula(P)Botswana Pula(P)Botswana Pula(P)Botswana Pula(P)Botswana Pula(P)Botswana Pula(P)Botswana Pula(P)Botswana Pula(P)Botswana Pula(P)Botswana Pula(P)Botswana Pula(P)Brazilian Real(R$)Brazilian Real(R$)Brazilian Real(R$)Brazilian Real(R$)Brazilian Real(R$)Brazilian Real(R$)Brazilian Real(R$)Brazilian Real(R$)Brazilian Real(R$)Brazilian Real(R$)Brazilian Real(R$)Brazilian Real(R$)Brazilian Real(R$)Brazilian Real(R$)Brazilian Real(R$)Brazilian Real(R$)Brazilian Real(R$)Brazilian Real(R$)Brazilian Real(R$)Brazilian Real(R$)Brazilian Real(R$)Brazilian Real(R$)Brazilian Real(R$)Brazilian Real(R$)Brazilian Real(R$)Brazilian Real(R$)Brazilian Real(R$)Brazilian Real(R$)Brazilian Real(R$)Brazilian Real(R$)Brazilian Real(R$)Brazilian Real(R$)Brazilian Real(R$)Brazilian Real(R$)Brazilian Real(R$)Brazilian Real(R$)Brazilian Real(R$)Brazilian Real(R$)Brazilian Real(R$)Brazilian Real(R$)Brazilian Real(R$)Brazilian Real(R$)Brazilian Real(R$)Brazilian Real(R$)Brazilian Real(R$)Brazilian Real(R$)Brazilian Real(R$)Brazilian Real(R$)Brazilian Real(R$)Brazilian Real(R$)Brazilian Real(R$)Brazilian Real(R$)Brazilian Real(R$)Brazilian Real(R$)Brazilian Real(R$)Brazilian Real(R$)Brazilian Real(R$)Brazilian Real(R$)Brazilian Real(R$)Brazilian Real(R$)Dollar($)Dollar($)Dollar($)Dollar($)Dollar($)Dollar($)Dollar($)Dollar($)Dollar($)Dollar($)Dollar($)Dollar($)Dollar($)Dollar($)Dollar($)Dollar($)'",
      "\nDuring handling of the above exception, another exception occurred:\n",
      "\u001b[1;31mValueError\u001b[0m                                Traceback (most recent call last)",
      "\u001b[1;32m~\\Anaconda3\\lib\\site-packages\\pandas\\core\\nanops.py\u001b[0m in \u001b[0;36m_ensure_numeric\u001b[1;34m(x)\u001b[0m\n\u001b[0;32m   1166\u001b[0m             \u001b[1;32mtry\u001b[0m\u001b[1;33m:\u001b[0m\u001b[1;33m\u001b[0m\u001b[1;33m\u001b[0m\u001b[0m\n\u001b[1;32m-> 1167\u001b[1;33m                 \u001b[0mx\u001b[0m \u001b[1;33m=\u001b[0m \u001b[0mcomplex\u001b[0m\u001b[1;33m(\u001b[0m\u001b[0mx\u001b[0m\u001b[1;33m)\u001b[0m\u001b[1;33m\u001b[0m\u001b[1;33m\u001b[0m\u001b[0m\n\u001b[0m\u001b[0;32m   1168\u001b[0m             \u001b[1;32mexcept\u001b[0m \u001b[0mException\u001b[0m\u001b[1;33m:\u001b[0m\u001b[1;33m\u001b[0m\u001b[1;33m\u001b[0m\u001b[0m\n",
      "\u001b[1;31mValueError\u001b[0m: complex() arg is a malformed string",
      "\nDuring handling of the above exception, another exception occurred:\n",
      "\u001b[1;31mTypeError\u001b[0m                                 Traceback (most recent call last)",
      "\u001b[1;32m<ipython-input-34-d2260648d042>\u001b[0m in \u001b[0;36m<module>\u001b[1;34m\u001b[0m\n\u001b[0;32m      1\u001b[0m \u001b[1;31m# Mean? Median?\u001b[0m\u001b[1;33m\u001b[0m\u001b[1;33m\u001b[0m\u001b[1;33m\u001b[0m\u001b[0m\n\u001b[1;32m----> 2\u001b[1;33m \u001b[0mdf\u001b[0m\u001b[1;33m.\u001b[0m\u001b[0mcurrency\u001b[0m\u001b[1;33m.\u001b[0m\u001b[0mmean\u001b[0m\u001b[1;33m(\u001b[0m\u001b[1;33m)\u001b[0m\u001b[1;33m\u001b[0m\u001b[1;33m\u001b[0m\u001b[0m\n\u001b[0m",
      "\u001b[1;32m~\\Anaconda3\\lib\\site-packages\\pandas\\core\\generic.py\u001b[0m in \u001b[0;36mstat_func\u001b[1;34m(self, axis, skipna, level, numeric_only, **kwargs)\u001b[0m\n\u001b[0;32m  10954\u001b[0m                                       skipna=skipna)\n\u001b[0;32m  10955\u001b[0m         return self._reduce(f, name, axis=axis, skipna=skipna,\n\u001b[1;32m> 10956\u001b[1;33m                             numeric_only=numeric_only)\n\u001b[0m\u001b[0;32m  10957\u001b[0m \u001b[1;33m\u001b[0m\u001b[0m\n\u001b[0;32m  10958\u001b[0m     \u001b[1;32mreturn\u001b[0m \u001b[0mset_function_name\u001b[0m\u001b[1;33m(\u001b[0m\u001b[0mstat_func\u001b[0m\u001b[1;33m,\u001b[0m \u001b[0mname\u001b[0m\u001b[1;33m,\u001b[0m \u001b[0mcls\u001b[0m\u001b[1;33m)\u001b[0m\u001b[1;33m\u001b[0m\u001b[1;33m\u001b[0m\u001b[0m\n",
      "\u001b[1;32m~\\Anaconda3\\lib\\site-packages\\pandas\\core\\series.py\u001b[0m in \u001b[0;36m_reduce\u001b[1;34m(self, op, name, axis, skipna, numeric_only, filter_type, **kwds)\u001b[0m\n\u001b[0;32m   3628\u001b[0m                                           'numeric_only.'.format(name))\n\u001b[0;32m   3629\u001b[0m             \u001b[1;32mwith\u001b[0m \u001b[0mnp\u001b[0m\u001b[1;33m.\u001b[0m\u001b[0merrstate\u001b[0m\u001b[1;33m(\u001b[0m\u001b[0mall\u001b[0m\u001b[1;33m=\u001b[0m\u001b[1;34m'ignore'\u001b[0m\u001b[1;33m)\u001b[0m\u001b[1;33m:\u001b[0m\u001b[1;33m\u001b[0m\u001b[1;33m\u001b[0m\u001b[0m\n\u001b[1;32m-> 3630\u001b[1;33m                 \u001b[1;32mreturn\u001b[0m \u001b[0mop\u001b[0m\u001b[1;33m(\u001b[0m\u001b[0mdelegate\u001b[0m\u001b[1;33m,\u001b[0m \u001b[0mskipna\u001b[0m\u001b[1;33m=\u001b[0m\u001b[0mskipna\u001b[0m\u001b[1;33m,\u001b[0m \u001b[1;33m**\u001b[0m\u001b[0mkwds\u001b[0m\u001b[1;33m)\u001b[0m\u001b[1;33m\u001b[0m\u001b[1;33m\u001b[0m\u001b[0m\n\u001b[0m\u001b[0;32m   3631\u001b[0m \u001b[1;33m\u001b[0m\u001b[0m\n\u001b[0;32m   3632\u001b[0m         \u001b[1;31m# TODO(EA) dispatch to Index\u001b[0m\u001b[1;33m\u001b[0m\u001b[1;33m\u001b[0m\u001b[1;33m\u001b[0m\u001b[0m\n",
      "\u001b[1;32m~\\Anaconda3\\lib\\site-packages\\pandas\\core\\nanops.py\u001b[0m in \u001b[0;36m_f\u001b[1;34m(*args, **kwargs)\u001b[0m\n\u001b[0;32m     74\u001b[0m             \u001b[1;32mtry\u001b[0m\u001b[1;33m:\u001b[0m\u001b[1;33m\u001b[0m\u001b[1;33m\u001b[0m\u001b[0m\n\u001b[0;32m     75\u001b[0m                 \u001b[1;32mwith\u001b[0m \u001b[0mnp\u001b[0m\u001b[1;33m.\u001b[0m\u001b[0merrstate\u001b[0m\u001b[1;33m(\u001b[0m\u001b[0minvalid\u001b[0m\u001b[1;33m=\u001b[0m\u001b[1;34m'ignore'\u001b[0m\u001b[1;33m)\u001b[0m\u001b[1;33m:\u001b[0m\u001b[1;33m\u001b[0m\u001b[1;33m\u001b[0m\u001b[0m\n\u001b[1;32m---> 76\u001b[1;33m                     \u001b[1;32mreturn\u001b[0m \u001b[0mf\u001b[0m\u001b[1;33m(\u001b[0m\u001b[1;33m*\u001b[0m\u001b[0margs\u001b[0m\u001b[1;33m,\u001b[0m \u001b[1;33m**\u001b[0m\u001b[0mkwargs\u001b[0m\u001b[1;33m)\u001b[0m\u001b[1;33m\u001b[0m\u001b[1;33m\u001b[0m\u001b[0m\n\u001b[0m\u001b[0;32m     77\u001b[0m             \u001b[1;32mexcept\u001b[0m \u001b[0mValueError\u001b[0m \u001b[1;32mas\u001b[0m \u001b[0me\u001b[0m\u001b[1;33m:\u001b[0m\u001b[1;33m\u001b[0m\u001b[1;33m\u001b[0m\u001b[0m\n\u001b[0;32m     78\u001b[0m                 \u001b[1;31m# we want to transform an object array\u001b[0m\u001b[1;33m\u001b[0m\u001b[1;33m\u001b[0m\u001b[1;33m\u001b[0m\u001b[0m\n",
      "\u001b[1;32m~\\Anaconda3\\lib\\site-packages\\pandas\\core\\nanops.py\u001b[0m in \u001b[0;36mf\u001b[1;34m(values, axis, skipna, **kwds)\u001b[0m\n\u001b[0;32m    128\u001b[0m             \u001b[1;32mexcept\u001b[0m \u001b[0mException\u001b[0m\u001b[1;33m:\u001b[0m\u001b[1;33m\u001b[0m\u001b[1;33m\u001b[0m\u001b[0m\n\u001b[0;32m    129\u001b[0m                 \u001b[1;32mtry\u001b[0m\u001b[1;33m:\u001b[0m\u001b[1;33m\u001b[0m\u001b[1;33m\u001b[0m\u001b[0m\n\u001b[1;32m--> 130\u001b[1;33m                     \u001b[0mresult\u001b[0m \u001b[1;33m=\u001b[0m \u001b[0malt\u001b[0m\u001b[1;33m(\u001b[0m\u001b[0mvalues\u001b[0m\u001b[1;33m,\u001b[0m \u001b[0maxis\u001b[0m\u001b[1;33m=\u001b[0m\u001b[0maxis\u001b[0m\u001b[1;33m,\u001b[0m \u001b[0mskipna\u001b[0m\u001b[1;33m=\u001b[0m\u001b[0mskipna\u001b[0m\u001b[1;33m,\u001b[0m \u001b[1;33m**\u001b[0m\u001b[0mkwds\u001b[0m\u001b[1;33m)\u001b[0m\u001b[1;33m\u001b[0m\u001b[1;33m\u001b[0m\u001b[0m\n\u001b[0m\u001b[0;32m    131\u001b[0m                 \u001b[1;32mexcept\u001b[0m \u001b[0mValueError\u001b[0m \u001b[1;32mas\u001b[0m \u001b[0me\u001b[0m\u001b[1;33m:\u001b[0m\u001b[1;33m\u001b[0m\u001b[1;33m\u001b[0m\u001b[0m\n\u001b[0;32m    132\u001b[0m                     \u001b[1;31m# we want to transform an object array\u001b[0m\u001b[1;33m\u001b[0m\u001b[1;33m\u001b[0m\u001b[1;33m\u001b[0m\u001b[0m\n",
      "\u001b[1;32m~\\Anaconda3\\lib\\site-packages\\pandas\\core\\nanops.py\u001b[0m in \u001b[0;36mnanmean\u001b[1;34m(values, axis, skipna, mask)\u001b[0m\n\u001b[0;32m    477\u001b[0m         \u001b[0mdtype_count\u001b[0m \u001b[1;33m=\u001b[0m \u001b[0mdtype\u001b[0m\u001b[1;33m\u001b[0m\u001b[1;33m\u001b[0m\u001b[0m\n\u001b[0;32m    478\u001b[0m     \u001b[0mcount\u001b[0m \u001b[1;33m=\u001b[0m \u001b[0m_get_counts\u001b[0m\u001b[1;33m(\u001b[0m\u001b[0mmask\u001b[0m\u001b[1;33m,\u001b[0m \u001b[0maxis\u001b[0m\u001b[1;33m,\u001b[0m \u001b[0mdtype\u001b[0m\u001b[1;33m=\u001b[0m\u001b[0mdtype_count\u001b[0m\u001b[1;33m)\u001b[0m\u001b[1;33m\u001b[0m\u001b[1;33m\u001b[0m\u001b[0m\n\u001b[1;32m--> 479\u001b[1;33m     \u001b[0mthe_sum\u001b[0m \u001b[1;33m=\u001b[0m \u001b[0m_ensure_numeric\u001b[0m\u001b[1;33m(\u001b[0m\u001b[0mvalues\u001b[0m\u001b[1;33m.\u001b[0m\u001b[0msum\u001b[0m\u001b[1;33m(\u001b[0m\u001b[0maxis\u001b[0m\u001b[1;33m,\u001b[0m \u001b[0mdtype\u001b[0m\u001b[1;33m=\u001b[0m\u001b[0mdtype_sum\u001b[0m\u001b[1;33m)\u001b[0m\u001b[1;33m)\u001b[0m\u001b[1;33m\u001b[0m\u001b[1;33m\u001b[0m\u001b[0m\n\u001b[0m\u001b[0;32m    480\u001b[0m \u001b[1;33m\u001b[0m\u001b[0m\n\u001b[0;32m    481\u001b[0m     \u001b[1;32mif\u001b[0m \u001b[0maxis\u001b[0m \u001b[1;32mis\u001b[0m \u001b[1;32mnot\u001b[0m \u001b[1;32mNone\u001b[0m \u001b[1;32mand\u001b[0m \u001b[0mgetattr\u001b[0m\u001b[1;33m(\u001b[0m\u001b[0mthe_sum\u001b[0m\u001b[1;33m,\u001b[0m \u001b[1;34m'ndim'\u001b[0m\u001b[1;33m,\u001b[0m \u001b[1;32mFalse\u001b[0m\u001b[1;33m)\u001b[0m\u001b[1;33m:\u001b[0m\u001b[1;33m\u001b[0m\u001b[1;33m\u001b[0m\u001b[0m\n",
      "\u001b[1;32m~\\Anaconda3\\lib\\site-packages\\pandas\\core\\nanops.py\u001b[0m in \u001b[0;36m_ensure_numeric\u001b[1;34m(x)\u001b[0m\n\u001b[0;32m   1168\u001b[0m             \u001b[1;32mexcept\u001b[0m \u001b[0mException\u001b[0m\u001b[1;33m:\u001b[0m\u001b[1;33m\u001b[0m\u001b[1;33m\u001b[0m\u001b[0m\n\u001b[0;32m   1169\u001b[0m                 raise TypeError('Could not convert {value!s} to numeric'\n\u001b[1;32m-> 1170\u001b[1;33m                                 .format(value=x))\n\u001b[0m\u001b[0;32m   1171\u001b[0m     \u001b[1;32mreturn\u001b[0m \u001b[0mx\u001b[0m\u001b[1;33m\u001b[0m\u001b[1;33m\u001b[0m\u001b[0m\n\u001b[0;32m   1172\u001b[0m \u001b[1;33m\u001b[0m\u001b[0m\n",
      "\u001b[1;31mTypeError\u001b[0m: Could not convert Botswana Pula(P)Botswana Pula(P)Botswana Pula(P)Botswana Pula(P)Botswana Pula(P)Botswana Pula(P)Botswana Pula(P)Botswana Pula(P)Botswana Pula(P)Botswana Pula(P)Botswana Pula(P)Botswana Pula(P)Botswana Pula(P)Botswana Pula(P)Botswana Pula(P)Botswana Pula(P)Botswana Pula(P)Botswana Pula(P)Botswana Pula(P)Botswana Pula(P)Botswana Pula(P)Botswana Pula(P)Brazilian Real(R$)Brazilian Real(R$)Brazilian Real(R$)Brazilian Real(R$)Brazilian Real(R$)Brazilian Real(R$)Brazilian Real(R$)Brazilian Real(R$)Brazilian Real(R$)Brazilian Real(R$)Brazilian Real(R$)Brazilian Real(R$)Brazilian Real(R$)Brazilian Real(R$)Brazilian Real(R$)Brazilian Real(R$)Brazilian Real(R$)Brazilian Real(R$)Brazilian Real(R$)Brazilian Real(R$)Brazilian Real(R$)Brazilian Real(R$)Brazilian Real(R$)Brazilian Real(R$)Brazilian Real(R$)Brazilian Real(R$)Brazilian Real(R$)Brazilian Real(R$)Brazilian Real(R$)Brazilian Real(R$)Brazilian Real(R$)Brazilian Real(R$)Brazilian Real(R$)Brazilian Real(R$)Brazilian Real(R$)Brazilian Real(R$)Brazilian Real(R$)Brazilian Real(R$)Brazilian Real(R$)Brazilian Real(R$)Brazilian Real(R$)Brazilian Real(R$)Brazilian Real(R$)Brazilian Real(R$)Brazilian Real(R$)Brazilian Real(R$)Brazilian Real(R$)Brazilian Real(R$)Brazilian Real(R$)Brazilian Real(R$)Brazilian Real(R$)Brazilian Real(R$)Brazilian Real(R$)Brazilian Real(R$)Brazilian Real(R$)Brazilian Real(R$)Brazilian Real(R$)Brazilian Real(R$)Brazilian Real(R$)Brazilian Real(R$)Dollar($)Dollar($)Dollar($)Dollar($)Dollar($)Dollar($)Dollar($)Dollar($)Dollar($)Dollar($)Dollar($)Dollar($)Dollar($)Dollar($)Dollar($)Dollar($) to numeric"
     ]
    }
   ],
   "source": [
    "# Mean? Median?\n",
    "df.currency.mean()"
   ]
  },
  {
   "cell_type": "code",
   "execution_count": 35,
   "metadata": {
    "collapsed": false,
    "deletable": true,
    "editable": true
   },
   "outputs": [
    {
     "data": {
      "text/plain": [
       "0    Brazilian Real(R$)\n",
       "dtype: object"
      ]
     },
     "execution_count": 35,
     "metadata": {},
     "output_type": "execute_result"
    }
   ],
   "source": [
    "# Mode\n",
    "df.currency.mode()"
   ]
  },
  {
   "cell_type": "code",
   "execution_count": 36,
   "metadata": {
    "collapsed": false,
    "deletable": true,
    "editable": true
   },
   "outputs": [
    {
     "data": {
      "text/plain": [
       "Brazilian Real(R$)    60\n",
       "Botswana Pula(P)      22\n",
       "Dollar($)             16\n",
       "Name: currency, dtype: int64"
      ]
     },
     "execution_count": 36,
     "metadata": {},
     "output_type": "execute_result"
    }
   ],
   "source": [
    "# How many of them from which categories?\n",
    "df.currency.value_counts()"
   ]
  },
  {
   "cell_type": "code",
   "execution_count": 37,
   "metadata": {
    "collapsed": false,
    "deletable": true,
    "editable": true
   },
   "outputs": [
    {
     "data": {
      "text/plain": [
       "count                     98\n",
       "unique                     3\n",
       "top       Brazilian Real(R$)\n",
       "freq                      60\n",
       "Name: currency, dtype: object"
      ]
     },
     "execution_count": 37,
     "metadata": {},
     "output_type": "execute_result"
    }
   ],
   "source": [
    "# shortcut:\n",
    "df.currency.describe()"
   ]
  },
  {
   "cell_type": "code",
   "execution_count": 38,
   "metadata": {
    "collapsed": false,
    "deletable": true,
    "editable": true
   },
   "outputs": [
    {
     "data": {
      "text/html": [
       "<div>\n",
       "<style scoped>\n",
       "    .dataframe tbody tr th:only-of-type {\n",
       "        vertical-align: middle;\n",
       "    }\n",
       "\n",
       "    .dataframe tbody tr th {\n",
       "        vertical-align: top;\n",
       "    }\n",
       "\n",
       "    .dataframe thead th {\n",
       "        text-align: right;\n",
       "    }\n",
       "</style>\n",
       "<table border=\"1\" class=\"dataframe\">\n",
       "  <thead>\n",
       "    <tr style=\"text-align: right;\">\n",
       "      <th></th>\n",
       "      <th>restaurant_id</th>\n",
       "      <th>country_code</th>\n",
       "      <th>longitude</th>\n",
       "      <th>latitude</th>\n",
       "      <th>average_cost_for_two</th>\n",
       "      <th>price_range</th>\n",
       "      <th>aggregate_rating</th>\n",
       "      <th>votes</th>\n",
       "    </tr>\n",
       "  </thead>\n",
       "  <tbody>\n",
       "    <tr>\n",
       "      <th>count</th>\n",
       "      <td>9.800000e+01</td>\n",
       "      <td>98.000000</td>\n",
       "      <td>98.000000</td>\n",
       "      <td>98.000000</td>\n",
       "      <td>98.000000</td>\n",
       "      <td>98.000000</td>\n",
       "      <td>98.000000</td>\n",
       "      <td>98.000000</td>\n",
       "    </tr>\n",
       "    <tr>\n",
       "      <th>mean</th>\n",
       "      <td>8.929856e+06</td>\n",
       "      <td>90.000000</td>\n",
       "      <td>-14.698534</td>\n",
       "      <td>-4.302986</td>\n",
       "      <td>446.173469</td>\n",
       "      <td>3.102041</td>\n",
       "      <td>3.885714</td>\n",
       "      <td>116.102041</td>\n",
       "    </tr>\n",
       "    <tr>\n",
       "      <th>std</th>\n",
       "      <td>4.360798e+06</td>\n",
       "      <td>77.596897</td>\n",
       "      <td>74.708809</td>\n",
       "      <td>21.648900</td>\n",
       "      <td>865.291442</td>\n",
       "      <td>1.020307</td>\n",
       "      <td>1.045166</td>\n",
       "      <td>194.893282</td>\n",
       "    </tr>\n",
       "    <tr>\n",
       "      <th>min</th>\n",
       "      <td>6.300002e+06</td>\n",
       "      <td>30.000000</td>\n",
       "      <td>-84.223278</td>\n",
       "      <td>-23.622925</td>\n",
       "      <td>0.000000</td>\n",
       "      <td>1.000000</td>\n",
       "      <td>0.000000</td>\n",
       "      <td>0.000000</td>\n",
       "    </tr>\n",
       "    <tr>\n",
       "      <th>25%</th>\n",
       "      <td>6.600430e+06</td>\n",
       "      <td>30.000000</td>\n",
       "      <td>-47.909500</td>\n",
       "      <td>-22.985292</td>\n",
       "      <td>60.000000</td>\n",
       "      <td>3.000000</td>\n",
       "      <td>3.600000</td>\n",
       "      <td>10.250000</td>\n",
       "    </tr>\n",
       "    <tr>\n",
       "      <th>50%</th>\n",
       "      <td>6.706034e+06</td>\n",
       "      <td>30.000000</td>\n",
       "      <td>-46.651876</td>\n",
       "      <td>-15.826500</td>\n",
       "      <td>120.000000</td>\n",
       "      <td>3.000000</td>\n",
       "      <td>4.150000</td>\n",
       "      <td>29.000000</td>\n",
       "    </tr>\n",
       "    <tr>\n",
       "      <th>75%</th>\n",
       "      <td>7.302888e+06</td>\n",
       "      <td>162.000000</td>\n",
       "      <td>-43.173552</td>\n",
       "      <td>14.570059</td>\n",
       "      <td>300.000000</td>\n",
       "      <td>4.000000</td>\n",
       "      <td>4.500000</td>\n",
       "      <td>108.250000</td>\n",
       "    </tr>\n",
       "    <tr>\n",
       "      <th>max</th>\n",
       "      <td>1.825565e+07</td>\n",
       "      <td>216.000000</td>\n",
       "      <td>121.075419</td>\n",
       "      <td>31.622412</td>\n",
       "      <td>6000.000000</td>\n",
       "      <td>4.000000</td>\n",
       "      <td>4.900000</td>\n",
       "      <td>1070.000000</td>\n",
       "    </tr>\n",
       "  </tbody>\n",
       "</table>\n",
       "</div>"
      ],
      "text/plain": [
       "       restaurant_id  country_code   longitude   latitude  \\\n",
       "count   9.800000e+01     98.000000   98.000000  98.000000   \n",
       "mean    8.929856e+06     90.000000  -14.698534  -4.302986   \n",
       "std     4.360798e+06     77.596897   74.708809  21.648900   \n",
       "min     6.300002e+06     30.000000  -84.223278 -23.622925   \n",
       "25%     6.600430e+06     30.000000  -47.909500 -22.985292   \n",
       "50%     6.706034e+06     30.000000  -46.651876 -15.826500   \n",
       "75%     7.302888e+06    162.000000  -43.173552  14.570059   \n",
       "max     1.825565e+07    216.000000  121.075419  31.622412   \n",
       "\n",
       "       average_cost_for_two  price_range  aggregate_rating        votes  \n",
       "count             98.000000    98.000000         98.000000    98.000000  \n",
       "mean             446.173469     3.102041          3.885714   116.102041  \n",
       "std              865.291442     1.020307          1.045166   194.893282  \n",
       "min                0.000000     1.000000          0.000000     0.000000  \n",
       "25%               60.000000     3.000000          3.600000    10.250000  \n",
       "50%              120.000000     3.000000          4.150000    29.000000  \n",
       "75%              300.000000     4.000000          4.500000   108.250000  \n",
       "max             6000.000000     4.000000          4.900000  1070.000000  "
      ]
     },
     "execution_count": 38,
     "metadata": {},
     "output_type": "execute_result"
    }
   ],
   "source": [
    "# display a quick statistic summary of your data (based on quantitative features)\n",
    "df.describe()"
   ]
  },
  {
   "cell_type": "code",
   "execution_count": 43,
   "metadata": {
    "collapsed": false,
    "deletable": true,
    "editable": true
   },
   "outputs": [
    {
     "data": {
      "text/html": [
       "<div>\n",
       "<style scoped>\n",
       "    .dataframe tbody tr th:only-of-type {\n",
       "        vertical-align: middle;\n",
       "    }\n",
       "\n",
       "    .dataframe tbody tr th {\n",
       "        vertical-align: top;\n",
       "    }\n",
       "\n",
       "    .dataframe thead th {\n",
       "        text-align: right;\n",
       "    }\n",
       "</style>\n",
       "<table border=\"1\" class=\"dataframe\">\n",
       "  <thead>\n",
       "    <tr style=\"text-align: right;\">\n",
       "      <th></th>\n",
       "      <th>restaurant_name</th>\n",
       "      <th>city</th>\n",
       "      <th>address</th>\n",
       "      <th>locality</th>\n",
       "      <th>locality_verbose</th>\n",
       "      <th>cuisines</th>\n",
       "      <th>currency</th>\n",
       "      <th>has_table_booking</th>\n",
       "      <th>has_online_delivery</th>\n",
       "      <th>is_delivering_now</th>\n",
       "      <th>switch_to_order_menu</th>\n",
       "      <th>rating_color</th>\n",
       "      <th>rating_text</th>\n",
       "    </tr>\n",
       "  </thead>\n",
       "  <tbody>\n",
       "    <tr>\n",
       "      <th>count</th>\n",
       "      <td>98</td>\n",
       "      <td>98</td>\n",
       "      <td>98</td>\n",
       "      <td>98</td>\n",
       "      <td>98</td>\n",
       "      <td>95</td>\n",
       "      <td>98</td>\n",
       "      <td>98</td>\n",
       "      <td>98</td>\n",
       "      <td>98</td>\n",
       "      <td>98</td>\n",
       "      <td>98</td>\n",
       "      <td>98</td>\n",
       "    </tr>\n",
       "    <tr>\n",
       "      <th>unique</th>\n",
       "      <td>95</td>\n",
       "      <td>13</td>\n",
       "      <td>97</td>\n",
       "      <td>54</td>\n",
       "      <td>54</td>\n",
       "      <td>71</td>\n",
       "      <td>3</td>\n",
       "      <td>2</td>\n",
       "      <td>1</td>\n",
       "      <td>1</td>\n",
       "      <td>1</td>\n",
       "      <td>5</td>\n",
       "      <td>5</td>\n",
       "    </tr>\n",
       "    <tr>\n",
       "      <th>top</th>\n",
       "      <td>Coco Bambu</td>\n",
       "      <td>Rio de Janeiro</td>\n",
       "      <td>2700 Dawson Rd, Albany, GA 31707</td>\n",
       "      <td>Albany</td>\n",
       "      <td>Albany, Albany</td>\n",
       "      <td>Brazilian</td>\n",
       "      <td>Brazilian Real(R$)</td>\n",
       "      <td>No</td>\n",
       "      <td>No</td>\n",
       "      <td>No</td>\n",
       "      <td>No</td>\n",
       "      <td>Green</td>\n",
       "      <td>Very Good</td>\n",
       "    </tr>\n",
       "    <tr>\n",
       "      <th>freq</th>\n",
       "      <td>2</td>\n",
       "      <td>20</td>\n",
       "      <td>2</td>\n",
       "      <td>16</td>\n",
       "      <td>16</td>\n",
       "      <td>8</td>\n",
       "      <td>60</td>\n",
       "      <td>84</td>\n",
       "      <td>98</td>\n",
       "      <td>98</td>\n",
       "      <td>98</td>\n",
       "      <td>29</td>\n",
       "      <td>29</td>\n",
       "    </tr>\n",
       "  </tbody>\n",
       "</table>\n",
       "</div>"
      ],
      "text/plain": [
       "       restaurant_name            city                           address  \\\n",
       "count               98              98                                98   \n",
       "unique              95              13                                97   \n",
       "top         Coco Bambu  Rio de Janeiro  2700 Dawson Rd, Albany, GA 31707   \n",
       "freq                 2              20                                 2   \n",
       "\n",
       "       locality locality_verbose   cuisines            currency  \\\n",
       "count        98               98         95                  98   \n",
       "unique       54               54         71                   3   \n",
       "top      Albany   Albany, Albany  Brazilian  Brazilian Real(R$)   \n",
       "freq         16               16          8                  60   \n",
       "\n",
       "       has_table_booking has_online_delivery is_delivering_now  \\\n",
       "count                 98                  98                98   \n",
       "unique                 2                   1                 1   \n",
       "top                   No                  No                No   \n",
       "freq                  84                  98                98   \n",
       "\n",
       "       switch_to_order_menu rating_color rating_text  \n",
       "count                    98           98          98  \n",
       "unique                    1            5           5  \n",
       "top                      No        Green   Very Good  \n",
       "freq                     98           29          29  "
      ]
     },
     "execution_count": 43,
     "metadata": {},
     "output_type": "execute_result"
    }
   ],
   "source": [
    "# display a quick statistic summary of your data (based on qualitative features)\n",
    "df.describe(include=\"O\")"
   ]
  },
  {
   "cell_type": "code",
   "execution_count": 40,
   "metadata": {
    "collapsed": false,
    "deletable": true,
    "editable": true
   },
   "outputs": [
    {
     "data": {
      "text/html": [
       "<div>\n",
       "<style scoped>\n",
       "    .dataframe tbody tr th:only-of-type {\n",
       "        vertical-align: middle;\n",
       "    }\n",
       "\n",
       "    .dataframe tbody tr th {\n",
       "        vertical-align: top;\n",
       "    }\n",
       "\n",
       "    .dataframe thead th {\n",
       "        text-align: right;\n",
       "    }\n",
       "</style>\n",
       "<table border=\"1\" class=\"dataframe\">\n",
       "  <thead>\n",
       "    <tr style=\"text-align: right;\">\n",
       "      <th></th>\n",
       "      <th>restaurant_id</th>\n",
       "      <th>restaurant_name</th>\n",
       "      <th>country_code</th>\n",
       "      <th>city</th>\n",
       "      <th>address</th>\n",
       "      <th>locality</th>\n",
       "      <th>locality_verbose</th>\n",
       "      <th>longitude</th>\n",
       "      <th>latitude</th>\n",
       "      <th>cuisines</th>\n",
       "      <th>...</th>\n",
       "      <th>currency</th>\n",
       "      <th>has_table_booking</th>\n",
       "      <th>has_online_delivery</th>\n",
       "      <th>is_delivering_now</th>\n",
       "      <th>switch_to_order_menu</th>\n",
       "      <th>price_range</th>\n",
       "      <th>aggregate_rating</th>\n",
       "      <th>rating_color</th>\n",
       "      <th>rating_text</th>\n",
       "      <th>votes</th>\n",
       "    </tr>\n",
       "  </thead>\n",
       "  <tbody>\n",
       "    <tr>\n",
       "      <th>count</th>\n",
       "      <td>9.800000e+01</td>\n",
       "      <td>98</td>\n",
       "      <td>98.000000</td>\n",
       "      <td>98</td>\n",
       "      <td>98</td>\n",
       "      <td>98</td>\n",
       "      <td>98</td>\n",
       "      <td>98.000000</td>\n",
       "      <td>98.000000</td>\n",
       "      <td>95</td>\n",
       "      <td>...</td>\n",
       "      <td>98</td>\n",
       "      <td>98</td>\n",
       "      <td>98</td>\n",
       "      <td>98</td>\n",
       "      <td>98</td>\n",
       "      <td>98.000000</td>\n",
       "      <td>98.000000</td>\n",
       "      <td>98</td>\n",
       "      <td>98</td>\n",
       "      <td>98.000000</td>\n",
       "    </tr>\n",
       "    <tr>\n",
       "      <th>unique</th>\n",
       "      <td>NaN</td>\n",
       "      <td>95</td>\n",
       "      <td>NaN</td>\n",
       "      <td>13</td>\n",
       "      <td>97</td>\n",
       "      <td>54</td>\n",
       "      <td>54</td>\n",
       "      <td>NaN</td>\n",
       "      <td>NaN</td>\n",
       "      <td>71</td>\n",
       "      <td>...</td>\n",
       "      <td>3</td>\n",
       "      <td>2</td>\n",
       "      <td>1</td>\n",
       "      <td>1</td>\n",
       "      <td>1</td>\n",
       "      <td>NaN</td>\n",
       "      <td>NaN</td>\n",
       "      <td>5</td>\n",
       "      <td>5</td>\n",
       "      <td>NaN</td>\n",
       "    </tr>\n",
       "    <tr>\n",
       "      <th>top</th>\n",
       "      <td>NaN</td>\n",
       "      <td>Coco Bambu</td>\n",
       "      <td>NaN</td>\n",
       "      <td>Rio de Janeiro</td>\n",
       "      <td>2700 Dawson Rd, Albany, GA 31707</td>\n",
       "      <td>Albany</td>\n",
       "      <td>Albany, Albany</td>\n",
       "      <td>NaN</td>\n",
       "      <td>NaN</td>\n",
       "      <td>Brazilian</td>\n",
       "      <td>...</td>\n",
       "      <td>Brazilian Real(R$)</td>\n",
       "      <td>No</td>\n",
       "      <td>No</td>\n",
       "      <td>No</td>\n",
       "      <td>No</td>\n",
       "      <td>NaN</td>\n",
       "      <td>NaN</td>\n",
       "      <td>Green</td>\n",
       "      <td>Very Good</td>\n",
       "      <td>NaN</td>\n",
       "    </tr>\n",
       "    <tr>\n",
       "      <th>freq</th>\n",
       "      <td>NaN</td>\n",
       "      <td>2</td>\n",
       "      <td>NaN</td>\n",
       "      <td>20</td>\n",
       "      <td>2</td>\n",
       "      <td>16</td>\n",
       "      <td>16</td>\n",
       "      <td>NaN</td>\n",
       "      <td>NaN</td>\n",
       "      <td>8</td>\n",
       "      <td>...</td>\n",
       "      <td>60</td>\n",
       "      <td>84</td>\n",
       "      <td>98</td>\n",
       "      <td>98</td>\n",
       "      <td>98</td>\n",
       "      <td>NaN</td>\n",
       "      <td>NaN</td>\n",
       "      <td>29</td>\n",
       "      <td>29</td>\n",
       "      <td>NaN</td>\n",
       "    </tr>\n",
       "    <tr>\n",
       "      <th>mean</th>\n",
       "      <td>8.929856e+06</td>\n",
       "      <td>NaN</td>\n",
       "      <td>90.000000</td>\n",
       "      <td>NaN</td>\n",
       "      <td>NaN</td>\n",
       "      <td>NaN</td>\n",
       "      <td>NaN</td>\n",
       "      <td>-14.698534</td>\n",
       "      <td>-4.302986</td>\n",
       "      <td>NaN</td>\n",
       "      <td>...</td>\n",
       "      <td>NaN</td>\n",
       "      <td>NaN</td>\n",
       "      <td>NaN</td>\n",
       "      <td>NaN</td>\n",
       "      <td>NaN</td>\n",
       "      <td>3.102041</td>\n",
       "      <td>3.885714</td>\n",
       "      <td>NaN</td>\n",
       "      <td>NaN</td>\n",
       "      <td>116.102041</td>\n",
       "    </tr>\n",
       "    <tr>\n",
       "      <th>std</th>\n",
       "      <td>4.360798e+06</td>\n",
       "      <td>NaN</td>\n",
       "      <td>77.596897</td>\n",
       "      <td>NaN</td>\n",
       "      <td>NaN</td>\n",
       "      <td>NaN</td>\n",
       "      <td>NaN</td>\n",
       "      <td>74.708809</td>\n",
       "      <td>21.648900</td>\n",
       "      <td>NaN</td>\n",
       "      <td>...</td>\n",
       "      <td>NaN</td>\n",
       "      <td>NaN</td>\n",
       "      <td>NaN</td>\n",
       "      <td>NaN</td>\n",
       "      <td>NaN</td>\n",
       "      <td>1.020307</td>\n",
       "      <td>1.045166</td>\n",
       "      <td>NaN</td>\n",
       "      <td>NaN</td>\n",
       "      <td>194.893282</td>\n",
       "    </tr>\n",
       "    <tr>\n",
       "      <th>min</th>\n",
       "      <td>6.300002e+06</td>\n",
       "      <td>NaN</td>\n",
       "      <td>30.000000</td>\n",
       "      <td>NaN</td>\n",
       "      <td>NaN</td>\n",
       "      <td>NaN</td>\n",
       "      <td>NaN</td>\n",
       "      <td>-84.223278</td>\n",
       "      <td>-23.622925</td>\n",
       "      <td>NaN</td>\n",
       "      <td>...</td>\n",
       "      <td>NaN</td>\n",
       "      <td>NaN</td>\n",
       "      <td>NaN</td>\n",
       "      <td>NaN</td>\n",
       "      <td>NaN</td>\n",
       "      <td>1.000000</td>\n",
       "      <td>0.000000</td>\n",
       "      <td>NaN</td>\n",
       "      <td>NaN</td>\n",
       "      <td>0.000000</td>\n",
       "    </tr>\n",
       "    <tr>\n",
       "      <th>25%</th>\n",
       "      <td>6.600430e+06</td>\n",
       "      <td>NaN</td>\n",
       "      <td>30.000000</td>\n",
       "      <td>NaN</td>\n",
       "      <td>NaN</td>\n",
       "      <td>NaN</td>\n",
       "      <td>NaN</td>\n",
       "      <td>-47.909500</td>\n",
       "      <td>-22.985292</td>\n",
       "      <td>NaN</td>\n",
       "      <td>...</td>\n",
       "      <td>NaN</td>\n",
       "      <td>NaN</td>\n",
       "      <td>NaN</td>\n",
       "      <td>NaN</td>\n",
       "      <td>NaN</td>\n",
       "      <td>3.000000</td>\n",
       "      <td>3.600000</td>\n",
       "      <td>NaN</td>\n",
       "      <td>NaN</td>\n",
       "      <td>10.250000</td>\n",
       "    </tr>\n",
       "    <tr>\n",
       "      <th>50%</th>\n",
       "      <td>6.706034e+06</td>\n",
       "      <td>NaN</td>\n",
       "      <td>30.000000</td>\n",
       "      <td>NaN</td>\n",
       "      <td>NaN</td>\n",
       "      <td>NaN</td>\n",
       "      <td>NaN</td>\n",
       "      <td>-46.651876</td>\n",
       "      <td>-15.826500</td>\n",
       "      <td>NaN</td>\n",
       "      <td>...</td>\n",
       "      <td>NaN</td>\n",
       "      <td>NaN</td>\n",
       "      <td>NaN</td>\n",
       "      <td>NaN</td>\n",
       "      <td>NaN</td>\n",
       "      <td>3.000000</td>\n",
       "      <td>4.150000</td>\n",
       "      <td>NaN</td>\n",
       "      <td>NaN</td>\n",
       "      <td>29.000000</td>\n",
       "    </tr>\n",
       "    <tr>\n",
       "      <th>75%</th>\n",
       "      <td>7.302888e+06</td>\n",
       "      <td>NaN</td>\n",
       "      <td>162.000000</td>\n",
       "      <td>NaN</td>\n",
       "      <td>NaN</td>\n",
       "      <td>NaN</td>\n",
       "      <td>NaN</td>\n",
       "      <td>-43.173552</td>\n",
       "      <td>14.570059</td>\n",
       "      <td>NaN</td>\n",
       "      <td>...</td>\n",
       "      <td>NaN</td>\n",
       "      <td>NaN</td>\n",
       "      <td>NaN</td>\n",
       "      <td>NaN</td>\n",
       "      <td>NaN</td>\n",
       "      <td>4.000000</td>\n",
       "      <td>4.500000</td>\n",
       "      <td>NaN</td>\n",
       "      <td>NaN</td>\n",
       "      <td>108.250000</td>\n",
       "    </tr>\n",
       "    <tr>\n",
       "      <th>max</th>\n",
       "      <td>1.825565e+07</td>\n",
       "      <td>NaN</td>\n",
       "      <td>216.000000</td>\n",
       "      <td>NaN</td>\n",
       "      <td>NaN</td>\n",
       "      <td>NaN</td>\n",
       "      <td>NaN</td>\n",
       "      <td>121.075419</td>\n",
       "      <td>31.622412</td>\n",
       "      <td>NaN</td>\n",
       "      <td>...</td>\n",
       "      <td>NaN</td>\n",
       "      <td>NaN</td>\n",
       "      <td>NaN</td>\n",
       "      <td>NaN</td>\n",
       "      <td>NaN</td>\n",
       "      <td>4.000000</td>\n",
       "      <td>4.900000</td>\n",
       "      <td>NaN</td>\n",
       "      <td>NaN</td>\n",
       "      <td>1070.000000</td>\n",
       "    </tr>\n",
       "  </tbody>\n",
       "</table>\n",
       "<p>11 rows × 21 columns</p>\n",
       "</div>"
      ],
      "text/plain": [
       "        restaurant_id restaurant_name  country_code            city  \\\n",
       "count    9.800000e+01              98     98.000000              98   \n",
       "unique            NaN              95           NaN              13   \n",
       "top               NaN      Coco Bambu           NaN  Rio de Janeiro   \n",
       "freq              NaN               2           NaN              20   \n",
       "mean     8.929856e+06             NaN     90.000000             NaN   \n",
       "std      4.360798e+06             NaN     77.596897             NaN   \n",
       "min      6.300002e+06             NaN     30.000000             NaN   \n",
       "25%      6.600430e+06             NaN     30.000000             NaN   \n",
       "50%      6.706034e+06             NaN     30.000000             NaN   \n",
       "75%      7.302888e+06             NaN    162.000000             NaN   \n",
       "max      1.825565e+07             NaN    216.000000             NaN   \n",
       "\n",
       "                                 address locality locality_verbose  \\\n",
       "count                                 98       98               98   \n",
       "unique                                97       54               54   \n",
       "top     2700 Dawson Rd, Albany, GA 31707   Albany   Albany, Albany   \n",
       "freq                                   2       16               16   \n",
       "mean                                 NaN      NaN              NaN   \n",
       "std                                  NaN      NaN              NaN   \n",
       "min                                  NaN      NaN              NaN   \n",
       "25%                                  NaN      NaN              NaN   \n",
       "50%                                  NaN      NaN              NaN   \n",
       "75%                                  NaN      NaN              NaN   \n",
       "max                                  NaN      NaN              NaN   \n",
       "\n",
       "         longitude   latitude   cuisines  ...            currency  \\\n",
       "count    98.000000  98.000000         95  ...                  98   \n",
       "unique         NaN        NaN         71  ...                   3   \n",
       "top            NaN        NaN  Brazilian  ...  Brazilian Real(R$)   \n",
       "freq           NaN        NaN          8  ...                  60   \n",
       "mean    -14.698534  -4.302986        NaN  ...                 NaN   \n",
       "std      74.708809  21.648900        NaN  ...                 NaN   \n",
       "min     -84.223278 -23.622925        NaN  ...                 NaN   \n",
       "25%     -47.909500 -22.985292        NaN  ...                 NaN   \n",
       "50%     -46.651876 -15.826500        NaN  ...                 NaN   \n",
       "75%     -43.173552  14.570059        NaN  ...                 NaN   \n",
       "max     121.075419  31.622412        NaN  ...                 NaN   \n",
       "\n",
       "       has_table_booking has_online_delivery is_delivering_now  \\\n",
       "count                 98                  98                98   \n",
       "unique                 2                   1                 1   \n",
       "top                   No                  No                No   \n",
       "freq                  84                  98                98   \n",
       "mean                 NaN                 NaN               NaN   \n",
       "std                  NaN                 NaN               NaN   \n",
       "min                  NaN                 NaN               NaN   \n",
       "25%                  NaN                 NaN               NaN   \n",
       "50%                  NaN                 NaN               NaN   \n",
       "75%                  NaN                 NaN               NaN   \n",
       "max                  NaN                 NaN               NaN   \n",
       "\n",
       "       switch_to_order_menu price_range  aggregate_rating  rating_color  \\\n",
       "count                    98   98.000000         98.000000            98   \n",
       "unique                    1         NaN               NaN             5   \n",
       "top                      No         NaN               NaN         Green   \n",
       "freq                     98         NaN               NaN            29   \n",
       "mean                    NaN    3.102041          3.885714           NaN   \n",
       "std                     NaN    1.020307          1.045166           NaN   \n",
       "min                     NaN    1.000000          0.000000           NaN   \n",
       "25%                     NaN    3.000000          3.600000           NaN   \n",
       "50%                     NaN    3.000000          4.150000           NaN   \n",
       "75%                     NaN    4.000000          4.500000           NaN   \n",
       "max                     NaN    4.000000          4.900000           NaN   \n",
       "\n",
       "       rating_text        votes  \n",
       "count           98    98.000000  \n",
       "unique           5          NaN  \n",
       "top      Very Good          NaN  \n",
       "freq            29          NaN  \n",
       "mean           NaN   116.102041  \n",
       "std            NaN   194.893282  \n",
       "min            NaN     0.000000  \n",
       "25%            NaN    10.250000  \n",
       "50%            NaN    29.000000  \n",
       "75%            NaN   108.250000  \n",
       "max            NaN  1070.000000  \n",
       "\n",
       "[11 rows x 21 columns]"
      ]
     },
     "execution_count": 40,
     "metadata": {},
     "output_type": "execute_result"
    }
   ],
   "source": [
    "# you can dislay the characteristics for each feature in the same table but it is not easy to read\n",
    "df.describe(include='all')"
   ]
  },
  {
   "cell_type": "markdown",
   "metadata": {
    "deletable": true,
    "editable": true
   },
   "source": [
    "### Sneak peek at data visualization"
   ]
  },
  {
   "cell_type": "code",
   "execution_count": 44,
   "metadata": {
    "collapsed": true,
    "deletable": true,
    "editable": true
   },
   "outputs": [],
   "source": [
    "# specifiy the font size\n",
    "plt.rc(\"font\", size = 14)"
   ]
  },
  {
   "cell_type": "code",
   "execution_count": 47,
   "metadata": {
    "collapsed": false,
    "deletable": true,
    "editable": true
   },
   "outputs": [
    {
     "data": {
      "image/png": "[encoded data removed]",
      "text/plain": [
       "<Figure size 432x288 with 1 Axes>"
      ]
     },
     "metadata": {
      "needs_background": "light"
     },
     "output_type": "display_data"
    }
   ],
   "source": [
    "# visualize your numerical feature with a histogram\n",
    "df.average_cost_for_two.hist(bins = 100)\n",
    "plt.xlabel('Price Range')\n",
    "plt.ylabel('Count')\n",
    "plt.title('Histogram of Average Cost for two');"
   ]
  },
  {
   "cell_type": "code",
   "execution_count": 51,
   "metadata": {
    "collapsed": false,
    "deletable": true,
    "editable": true
   },
   "outputs": [
    {
     "data": {
      "image/png": "[encoded data removed]",
      "text/plain": [
       "<Figure size 432x288 with 1 Axes>"
      ]
     },
     "metadata": {
      "needs_background": "light"
     },
     "output_type": "display_data"
    }
   ],
   "source": [
    "# visualize your categorical feature with a bar plot\n",
    "df.currency.value_counts().plot(kind = 'bar', rot = 60)\n",
    "plt.xlabel('Curreny Categories', labelpad = 12)\n",
    "plt.ylabel('Count')\n",
    "plt.title('Bar plot of Currency');"
   ]
  },
  {
   "cell_type": "code",
   "execution_count": 52,
   "metadata": {
    "collapsed": false,
    "deletable": true,
    "editable": true
   },
   "outputs": [
    {
     "data": {
      "image/png": "[encoded data removed]",
      "text/plain": [
       "<Figure size 288x576 with 1 Axes>"
      ]
     },
     "metadata": {
      "needs_background": "light"
     },
     "output_type": "display_data"
    }
   ],
   "source": [
    "# visualize your numerical feature with a boxplot\n",
    "plt.figure(figsize = (4, 8))\n",
    "df.average_cost_for_two.plot(kind = 'box');"
   ]
  },
  {
   "cell_type": "code",
   "execution_count": 53,
   "metadata": {
    "collapsed": false,
    "deletable": true,
    "editable": true
   },
   "outputs": [
    {
     "data": {
      "image/png": "[encoded data removed]",
      "text/plain": [
       "<Figure size 504x360 with 1 Axes>"
      ]
     },
     "metadata": {},
     "output_type": "display_data"
    }
   ],
   "source": [
    "# adjust the figure size\n",
    "plt.figure(figsize=(7, 5))\n",
    "\n",
    "# plot the pie chart to visualize the data\n",
    "ax = df.has_table_booking.value_counts().plot(kind=\"pie\", autopct='%1.2f%%', startangle=90); #, labels=['No', 'Yes'])\n",
    "ax.set_ylabel('')   # to suppress the has_table_booking label\n",
    "plt.title('Has Table Booking?');"
   ]
  },
  {
   "cell_type": "markdown",
   "metadata": {
    "deletable": true,
    "editable": true
   },
   "source": [
    "## Zomato dataset (original)"
   ]
  },
  {
   "cell_type": "code",
   "execution_count": null,
   "metadata": {
    "collapsed": true,
    "deletable": true,
    "editable": true
   },
   "outputs": [],
   "source": [
    "# import all the dataset\n",
    "df_all = pd.read_csv('../data/zomato.csv', index_col= None, encoding='latin-1')"
   ]
  },
  {
   "cell_type": "code",
   "execution_count": null,
   "metadata": {
    "collapsed": true,
    "deletable": true,
    "editable": true
   },
   "outputs": [],
   "source": []
  },
  {
   "cell_type": "code",
   "execution_count": null,
   "metadata": {
    "collapsed": true,
    "deletable": true,
    "editable": true
   },
   "outputs": [],
   "source": []
  },
  {
   "cell_type": "code",
   "execution_count": null,
   "metadata": {
    "collapsed": true,
    "deletable": true,
    "editable": true
   },
   "outputs": [],
   "source": []
  }
 ],
 "metadata": {
  "kernelspec": {
   "display_name": "Python 3",
   "language": "python",
   "name": "python3"
  },
  "language_info": {
   "codemirror_mode": {
    "name": "ipython",
    "version": 3
   },
   "file_extension": ".py",
   "mimetype": "text/x-python",
   "name": "python",
   "nbconvert_exporter": "python",
   "pygments_lexer": "ipython3",
   "version": "3.5.2"
  }
 },
 "nbformat": 4,
 "nbformat_minor": 2
}
